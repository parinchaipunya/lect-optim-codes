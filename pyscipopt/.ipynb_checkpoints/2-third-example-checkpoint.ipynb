{
 "cells": [
  {
   "cell_type": "markdown",
   "id": "8e7f0891-7ff5-439f-98eb-4bbb38e6777f",
   "metadata": {},
   "source": [
    "## Third example"
   ]
  },
  {
   "cell_type": "markdown",
   "id": "3aa1c102-456e-40cb-9cca-3e672e60249f",
   "metadata": {},
   "source": [
    "A company has 3 jobs and we want to assign them to 3 emplyees such that one employee will do only one job.\n",
    "The time that employee $i$ uses to get the job $j$ done is $c_{ij}$, presented in the table below.\n",
    "\n",
    "|  | Job 1 | Job 2 | Job 3 |\n",
    "|:---:|:---:|:---:|:---:|\n",
    "| Employee 1 | 3 | 4 | 2 |\n",
    "| Employee 2 | 1 | 3 | 3 |\n",
    "| Employee 3 | 2 | 2 | 2 |\n",
    "\n",
    "**Variables:** $x_{ij} \\in \\{0,1\\}$, where \n",
    "- $x_{ij} = 1$ means employee $i$ is assigned to job $j$,\n",
    "- $x_{ij} = 0$ means employee $i$ is *not* assigned to job $j$.\n",
    "\n",
    "**Constraint:**\n",
    "- $\\sum_{j=1}^{3} x_{ij} = 1$ for all $i = 1,2,3$. (One employee must do only one job.)\n",
    "\n",
    "**Objective:**\n",
    "- $\\sum_{i=1}^{3}\\sum_{j=1}^{3} c_{ij}x_{ij} \\ \\leftarrow \\text{Minimized}$\n",
    "\n",
    "***Aim:** How to assign each employee to a job so that the time used to complete the jobs is minimized ?*"
   ]
  },
  {
   "cell_type": "code",
   "execution_count": 7,
   "id": "4637a6bd-c1f5-4500-bcad-ed97338fbe2c",
   "metadata": {},
   "outputs": [],
   "source": [
    "from pyscipopt import Model, quicksum"
   ]
  },
  {
   "cell_type": "code",
   "execution_count": 2,
   "id": "3396b36f-1796-4a44-90cc-497ae89b34ea",
   "metadata": {},
   "outputs": [],
   "source": [
    "assignment = Model(\"Assignment problem\")\n",
    "\n",
    "n = 3 # number of employees.\n",
    "m = 3 # number of jobs.\n",
    "\n",
    "# Create x as a matrix.\n",
    "x = [[assignment.addVar(vtype='B', name=f\"x_{i}_{j}\") for i in range(n)] for j in range(m)] \n",
    "\n",
    "# Add constraints.\n",
    "for i in range(n):\n",
    "    assignment.addCons(quicksum(x[i][j] for j in range(m)) == 1, name=\"One man, one job\")\n",
    "\n",
    "c = [[3, 4, 2], [1, 3, 3], [2, 2, 2]]\n",
    "assignment.setObjective(quicksum(c[i][j]*x[i][j] for i in range(n) for j in range(m)), sense=\"minimize\")"
   ]
  },
  {
   "cell_type": "code",
   "execution_count": 3,
   "id": "f02e583e-2979-4e3a-8c1c-61899534d21a",
   "metadata": {},
   "outputs": [
    {
     "name": "stdout",
     "output_type": "stream",
     "text": [
      "presolving:\n",
      "(round 1, exhaustive) 0 del vars, 0 del conss, 0 add conss, 0 chg bounds, 0 chg sides, 0 chg coeffs, 3 upgd conss, 0 impls, 3 clqs\n",
      "presolving (2 rounds: 2 fast, 2 medium, 2 exhaustive):\n",
      " 9 deleted vars, 3 deleted constraints, 0 added constraints, 0 tightened bounds, 0 added holes, 0 changed sides, 0 changed coefficients\n",
      " 0 implications, 0 cliques\n",
      "transformed 1/1 original solutions to the transformed problem space\n",
      "Presolving Time: 0.00\n",
      "\n",
      "SCIP Status        : problem is solved [optimal solution found]\n",
      "Solving Time (sec) : 0.00\n",
      "Solving Nodes      : 0\n",
      "Primal Bound       : +5.00000000000000e+00 (1 solutions)\n",
      "Dual Bound         : +5.00000000000000e+00\n",
      "Gap                : 0.00 %\n"
     ]
    }
   ],
   "source": [
    "# Solve.\n",
    "assignment.optimize()"
   ]
  },
  {
   "cell_type": "code",
   "execution_count": 4,
   "id": "1dc343b9-f2b4-446d-8c8b-41181cf8c4e4",
   "metadata": {},
   "outputs": [
    {
     "name": "stdout",
     "output_type": "stream",
     "text": [
      "{'x_0_0': -0.0, 'x_1_0': -0.0, 'x_2_0': 1.0, 'x_0_1': 1.0, 'x_1_1': -0.0, 'x_2_1': -0.0, 'x_0_2': -0.0, 'x_1_2': 1.0, 'x_2_2': -0.0}\n"
     ]
    }
   ],
   "source": [
    "# Get solutions.\n",
    "Sol = assignment.getBestSol()\n",
    "print(Sol)\n",
    "# Print solutions.\n",
    "# for j in range(m):\n",
    "#     print(Sol)"
   ]
  },
  {
   "cell_type": "markdown",
   "id": "366696aa-a723-4ea5-b5f4-e2f43b733353",
   "metadata": {},
   "source": [
    "---"
   ]
  }
 ],
 "metadata": {
  "kernelspec": {
   "display_name": "Python 3 (ipykernel)",
   "language": "python",
   "name": "python3"
  },
  "language_info": {
   "codemirror_mode": {
    "name": "ipython",
    "version": 3
   },
   "file_extension": ".py",
   "mimetype": "text/x-python",
   "name": "python",
   "nbconvert_exporter": "python",
   "pygments_lexer": "ipython3",
   "version": "3.12.7"
  },
  "widgets": {
   "application/vnd.jupyter.widget-state+json": {
    "state": {},
    "version_major": 2,
    "version_minor": 0
   }
  }
 },
 "nbformat": 4,
 "nbformat_minor": 5
}
