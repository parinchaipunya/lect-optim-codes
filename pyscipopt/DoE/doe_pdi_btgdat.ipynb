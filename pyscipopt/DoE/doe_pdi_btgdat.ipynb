{
 "cells": [
  {
   "cell_type": "markdown",
   "metadata": {},
   "source": [
    "# Design of Experiments and Optimization: Pellet mill\n",
    "This is the second notebook regarding DoE-RSM-Optimization workflow.\n",
    "The difference is that we take the DoE table obtained earlier in the course and construct the response surface accordingly.\n",
    "In the optimization part, we additionally consider an optimization problem that applies when one wants to track a specific PDI value rather than the maximum."
   ]
  },
  {
   "cell_type": "markdown",
   "metadata": {},
   "source": [
    "## Getting response surface"
   ]
  },
  {
   "cell_type": "code",
   "execution_count": null,
   "metadata": {},
   "outputs": [],
   "source": [
    "import numpy as np\n",
    "import pandas as pd\n",
    "from pyscipopt import Model, quicksum"
   ]
  },
  {
   "cell_type": "code",
   "execution_count": null,
   "metadata": {},
   "outputs": [],
   "source": [
    "# Import the DoE table\n",
    "datafile = 'btgdat.xlsx'\n",
    "df = pd.read_excel(datafile, sheet_name='Factorial CRD 3 factor')\n",
    "print(df)"
   ]
  },
  {
   "cell_type": "code",
   "execution_count": null,
   "metadata": {},
   "outputs": [],
   "source": [
    "x = df[['A', 'B', 'C']].to_numpy().T\n",
    "y = df['PDI'].to_numpy().T\n",
    "\n",
    "m,n = np.shape(x) # m = number of factors, n = number of runs"
   ]
  },
  {
   "cell_type": "code",
   "execution_count": null,
   "metadata": {},
   "outputs": [],
   "source": [
    "# Construct the matrix X by its transpose.\n",
    "## First, stack ones over the linear terms.\n",
    "X = np.vstack((np.ones(n),x))\n",
    "## Second, stack the above matrix above the quadratic terms.\n",
    "for i in range(m):\n",
    "    for j in range(i,m):\n",
    "        X = np.vstack((X,x[i,:]*x[j,:]))\n",
    "X = X.T"
   ]
  },
  {
   "cell_type": "code",
   "execution_count": null,
   "metadata": {},
   "outputs": [],
   "source": [
    "# Do quadratic regression \n",
    "u = np.linalg.lstsq(X.T@X,X.T@y)[0]\n",
    "c = u[0]\n",
    "b = u[1:1+m].reshape(-1,1)\n",
    "A = np.zeros((m,m))\n",
    "A[np.triu_indices(3)] = u[1+m:]\n",
    "A = .5*(A + A.T)\n",
    "q = lambda x: x.T@A@x + b.T@x + c"
   ]
  },
  {
   "cell_type": "code",
   "execution_count": null,
   "metadata": {
    "scrolled": true
   },
   "outputs": [],
   "source": [
    "for i in range(n):\n",
    "    print(f\"Run#{i}:\\t x={x[:,i]}\\t  y={y[i]}\\t  P={q(x[:,i])[0]}\")"
   ]
  },
  {
   "cell_type": "markdown",
   "metadata": {},
   "source": [
    "----"
   ]
  },
  {
   "cell_type": "markdown",
   "metadata": {},
   "source": [
    "## Optimization: Maximizing PDI"
   ]
  },
  {
   "cell_type": "code",
   "execution_count": null,
   "metadata": {},
   "outputs": [],
   "source": [
    "maxpdi = Model()\n",
    "xx = [maxpdi.addVar(vtype='C', lb=-1, ub=1, name=f\"x{i}\") for i in range(m)]\n",
    "obj = maxpdi.addVar(vtype='C', name=\"obj\")\n",
    "maxpdi.setObjective(obj, sense='maximize')\n",
    "maxpdi.addCons( obj <= \n",
    "                        quicksum(A[i][j]*xx[i]*xx[j] for i in range(m) for j in range(m))\n",
    "                        + quicksum(b[i][0]*xx[i] for i in range(m)) + c )\n",
    "maxpdi.hideOutput()\n",
    "maxpdi.optimize()\n",
    "SOL = maxpdi.getBestSol()\n",
    "x_max = [SOL[xx[i]] for i in range(m)]\n",
    "OBJ = SOL[obj]\n",
    "print(f\"The maximum PDI={OBJ} is achieved at x1={x_max[0]} x2={x_max[1]} x3={x_max[2]}.\")"
   ]
  },
  {
   "cell_type": "markdown",
   "metadata": {},
   "source": [
    "----"
   ]
  },
  {
   "cell_type": "markdown",
   "metadata": {},
   "source": [
    "## Optimization: Tracking a specific PDI value\n",
    "\n",
    "Instead of the PDI value as high as possible, we may want a specific PDI value $p^{\\ast}$ that we prefer our pellets to have.\n",
    "\n",
    "Since we want to be as close to $p^{\\ast}$ as possible, the **square distance** between $q(x)$ and $p^{\\ast}$ is minimized:\n",
    "$$ \n",
    "\\begin{array}{cl}\n",
    "\\min \\quad &J(x) := (q(x) - p^{\\ast})^{2} \\\\\n",
    "\\text{s.t.}\\quad & x \\in [-1,1]^{m}.\n",
    "\\end{array}\n",
    "$$\n",
    "\n",
    "This is no longer a quadratic program, and it is potentially a **nonconvex optimization problem**.\n",
    "With the structure, we aim to use the projected gradient descent method to solve this problem.\n",
    "Recalling that $q(x) = x^{\\top}Ax + b^{\\top} + c$, we have $\\nabla q(x) = 2Ax + b$ and then\n",
    "$$\n",
    "\\nabla J(x) = 2(q(x) - p^{\\ast}) \\nabla q(x) = 2(q(x) - p^{\\ast})(2Ax + b).\n",
    "$$\n",
    "The **projected gradient descent method (PGDM)** with diminishing rate is described as follows.\n",
    "\n",
    "- **Initialization** Pick an initial point $x$ and an initial learning rate $\\alpha > 0$.\n",
    "- **Repeat**\n",
    "   * Compute: $q(x^{0})$\n",
    "   * Update learning rate: $\\alpha \\leftarrow \\alpha/2$\n",
    "   * Gradient step: $x \\leftarrow x - 2\\alpha(q(x) - p^{\\ast})(2Ax + b)$\n",
    "   * Projection step:\n",
    "       * For $i = 1,\\dots,m$;\n",
    "           - If $x_{i} \\leq -1$, $x_{i} \\leftarrow -1$;\n",
    "           - If $x_{i} \\geq 1$, $x_{i} \\leftarrow 1$;\n",
    "- **Until** A stopping criterion is satisfied.\n",
    "- **Return** $x$"
   ]
  },
  {
   "cell_type": "code",
   "execution_count": null,
   "metadata": {},
   "outputs": [],
   "source": [
    "# Check the eigenvalues of A for convexity check.\n",
    "np.linalg.eig(A)[0] >= 0"
   ]
  },
  {
   "cell_type": "code",
   "execution_count": null,
   "metadata": {},
   "outputs": [],
   "source": [
    "p_star = 94.0\n",
    "J = lambda x: (q(x) - p_star)**2\n",
    "\n",
    "XX = np.array([1,1,1.]).reshape((-1,1))\n",
    "alpha = 0.001\n",
    "\n",
    "for k in range(20):\n",
    "    qq = q(XX)\n",
    "    alpha /= 2\n",
    "    XX -= 2*alpha*(qq - p_star)*(2*A@XX + b)\n",
    "    # print(f\"Step{k}\\t x = {XX}\")\n",
    "    for i in range(m):\n",
    "        if XX[i] <= -1:\n",
    "            XX[i] = -1\n",
    "        elif XX[i] >= 1:\n",
    "            XX[i] = 1\n",
    "    # print(f\"After proj, x = {XX}\")\n",
    "print(f\"x = {XX.reshape((-1,))} q(x) = {q(XX)}\")"
   ]
  },
  {
   "cell_type": "markdown",
   "metadata": {},
   "source": [
    "### The failure of OFF-THE-SHELF solvers\n",
    "Eventhough PySCIPOpt is advertised to solve nonlinear (nonconvex, actually) problems, it has its limitation outside the quadratic realm.\n",
    "\n",
    "The following shows that PySCIPOpt fails to track the value of $p^{\\ast}$."
   ]
  },
  {
   "cell_type": "code",
   "execution_count": null,
   "metadata": {},
   "outputs": [],
   "source": [
    "m2 = Model()\n",
    "t = m2.addVar(vtype='C', name='t')\n",
    "xx = [m2.addVar(vtype='C', lb=-1, ub=1, name=f'x{i}') for i in range(m)]\n",
    "Obj = m2.addVar(vtype='C', name=\"obj\")\n",
    "m2.setObjective(obj, sense='minimize')\n",
    "m2.addCons( (t - p_star)**2 <= Obj )\n",
    "m2.addCons( t == \n",
    "                  quicksum(A[i][j]*xx[i]*xx[j] for i in range(m) for j in range(m))\n",
    "                  + quicksum(b[i][0]*xx[i] for i in range(m)) + c )\n",
    "m2.hideOutput()\n",
    "m2.optimize()"
   ]
  },
  {
   "cell_type": "code",
   "execution_count": null,
   "metadata": {},
   "outputs": [],
   "source": [
    "SOL = m2.getBestSol()\n",
    "print(SOL)"
   ]
  },
  {
   "cell_type": "markdown",
   "metadata": {},
   "source": [
    "Note that the solution from the PySCIPOpt does not make sense, as the value of `Obj` should at most be $(t-p^{\\ast})^{2}$."
   ]
  },
  {
   "cell_type": "markdown",
   "metadata": {},
   "source": [
    "----"
   ]
  }
 ],
 "metadata": {
  "colab": {
   "provenance": []
  },
  "kernelspec": {
   "display_name": "Python 3 (ipykernel)",
   "language": "python",
   "name": "python3"
  },
  "language_info": {
   "codemirror_mode": {
    "name": "ipython",
    "version": 3
   },
   "file_extension": ".py",
   "mimetype": "text/x-python",
   "name": "python",
   "nbconvert_exporter": "python",
   "pygments_lexer": "ipython3",
   "version": "3.13.5"
  }
 },
 "nbformat": 4,
 "nbformat_minor": 4
}
