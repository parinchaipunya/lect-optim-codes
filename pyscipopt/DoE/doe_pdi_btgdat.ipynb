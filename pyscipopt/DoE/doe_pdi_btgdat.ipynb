{
 "cells": [
  {
   "cell_type": "markdown",
   "metadata": {},
   "source": [
    "# Design of Experiments and Optimization: Pellet mill\n",
    "**Design of Experiments (DoE)** is a key tool in diagnostic analytics which, together with **response surface method (RSM)**, extends to have a predictive ability.\n",
    "It helps understanding the relationship between the explanatory variables (independent variables) and the response variable (dependent variable).\n",
    "The response surface itself is also used in deriving an optimal settings in a process.\n",
    "\n",
    "## What is in this notebook?\n",
    "We provide a demo of how one steps from the diagnostic DoE, to the predictive RSM, and finally to do optimization.\n",
    "The example is extremely simplified in order to point out crucial ideas visually."
   ]
  },
  {
   "cell_type": "markdown",
   "metadata": {},
   "source": [
    "## Getting response surface"
   ]
  },
  {
   "cell_type": "code",
   "execution_count": 1,
   "metadata": {},
   "outputs": [],
   "source": [
    "import numpy as np\n",
    "import pandas as pd\n",
    "from pyscipopt import Model, quicksum"
   ]
  },
  {
   "cell_type": "code",
   "execution_count": 2,
   "metadata": {},
   "outputs": [
    {
     "name": "stdout",
     "output_type": "stream",
     "text": [
      "    order  A  B  C    PDI treat\n",
      "0       8 -1 -1 -1  89.55    LL\n",
      "1      13  1 -1 -1  91.23    HL\n",
      "2      11 -1  1 -1  91.02    LH\n",
      "3      10  1  1 -1  95.46    HH\n",
      "4       2 -1 -1  1  91.58    LL\n",
      "5       1  1 -1  1  94.78    HL\n",
      "6      12 -1  1  1  93.89    LH\n",
      "7       6  1  1  1  98.68    HH\n",
      "8      14 -1 -1 -1  89.07    LL\n",
      "9       4  1 -1 -1  91.57    HL\n",
      "10     15 -1  1 -1  90.47    LH\n",
      "11      3  1  1 -1  94.47    HH\n",
      "12     16 -1 -1  1  91.82    LL\n",
      "13      7  1 -1  1  93.94    HL\n",
      "14      9 -1  1  1  92.24    LH\n",
      "15      5  1  1  1  98.02    HH\n"
     ]
    }
   ],
   "source": [
    "# Import the DoE table\n",
    "datafile = 'btgdat.xlsx'\n",
    "df = pd.read_excel(datafile, sheet_name='Factorial CRD 3 factor')\n",
    "print(df)"
   ]
  },
  {
   "cell_type": "code",
   "execution_count": 3,
   "metadata": {},
   "outputs": [],
   "source": [
    "x = df[['A', 'B', 'C']].to_numpy().T\n",
    "y = df['PDI'].to_numpy().T\n",
    "\n",
    "m,n = np.shape(x) # m = number of factors, n = number of runs"
   ]
  },
  {
   "cell_type": "code",
   "execution_count": 4,
   "metadata": {},
   "outputs": [],
   "source": [
    "# Construct the matrix X by its transpose.\n",
    "## First, stack ones over the linear terms.\n",
    "X = np.vstack((np.ones(n),x))\n",
    "## Second, stack the above matrix above the quadratic terms.\n",
    "for i in range(m):\n",
    "    for j in range(i,m):\n",
    "        X = np.vstack((X,x[i,:]*x[j,:]))\n",
    "X = X.T"
   ]
  },
  {
   "cell_type": "code",
   "execution_count": 5,
   "metadata": {},
   "outputs": [],
   "source": [
    "# Do quadratic regression \n",
    "u = np.linalg.lstsq(X.T@X,X.T@y)[0]\n",
    "c = u[0]\n",
    "b = u[1:1+m].reshape(-1,1)\n",
    "A = np.zeros((m,m))\n",
    "A[np.triu_indices(3)] = u[1+m:]\n",
    "A = .5*(A + A.T)\n",
    "q = lambda x: x.T@A@x + b.T@x + c"
   ]
  },
  {
   "cell_type": "code",
   "execution_count": 6,
   "metadata": {
    "scrolled": true
   },
   "outputs": [
    {
     "name": "stdout",
     "output_type": "stream",
     "text": [
      "Run#0:\t x=[-1 -1 -1]\t  y=89.55\t  P=89.37187499999999\n",
      "Run#1:\t x=[ 1 -1 -1]\t  y=91.23\t  P=91.33812499999998\n",
      "Run#2:\t x=[-1  1 -1]\t  y=91.02\t  P=90.68312499999999\n",
      "Run#3:\t x=[ 1  1 -1]\t  y=95.46\t  P=95.02687499999999\n",
      "Run#4:\t x=[-1 -1  1]\t  y=91.58\t  P=91.638125\n",
      "Run#5:\t x=[ 1 -1  1]\t  y=94.78\t  P=94.421875\n",
      "Run#6:\t x=[-1  1  1]\t  y=93.89\t  P=93.12687499999997\n",
      "Run#7:\t x=[1 1 1]\t  y=98.68\t  P=98.28812499999998\n",
      "Run#8:\t x=[-1 -1 -1]\t  y=89.07\t  P=89.37187499999999\n",
      "Run#9:\t x=[ 1 -1 -1]\t  y=91.57\t  P=91.33812499999998\n",
      "Run#10:\t x=[-1  1 -1]\t  y=90.47\t  P=90.68312499999999\n",
      "Run#11:\t x=[ 1  1 -1]\t  y=94.47\t  P=95.02687499999999\n",
      "Run#12:\t x=[-1 -1  1]\t  y=91.82\t  P=91.638125\n",
      "Run#13:\t x=[ 1 -1  1]\t  y=93.94\t  P=94.421875\n",
      "Run#14:\t x=[-1  1  1]\t  y=92.24\t  P=93.12687499999997\n",
      "Run#15:\t x=[1 1 1]\t  y=98.02\t  P=98.28812499999998\n"
     ]
    }
   ],
   "source": [
    "for i in range(n):\n",
    "    print(f\"Run#{i}:\\t x={x[:,i]}\\t  y={y[i]}\\t  P={q(x[:,i])[0]}\")"
   ]
  },
  {
   "cell_type": "markdown",
   "metadata": {},
   "source": [
    "----"
   ]
  },
  {
   "cell_type": "markdown",
   "metadata": {},
   "source": [
    "## Optimization: Maximizing PDI"
   ]
  },
  {
   "cell_type": "code",
   "execution_count": 7,
   "metadata": {},
   "outputs": [
    {
     "name": "stdout",
     "output_type": "stream",
     "text": [
      "The maximum PDI=98.288125001 is achieved at x1=1.0 x2=1.0 x3=1.0.\n"
     ]
    }
   ],
   "source": [
    "maxpdi = Model()\n",
    "xx = [maxpdi.addVar(vtype='C', lb=-1, ub=1, name=f\"x{i}\") for i in range(m)]\n",
    "obj = maxpdi.addVar(vtype='C', name=\"obj\")\n",
    "maxpdi.setObjective(obj, sense='maximize')\n",
    "maxpdi.addCons( obj <= \n",
    "                        quicksum(A[i][j]*xx[i]*xx[j] for i in range(m) for j in range(m))\n",
    "                        + quicksum(b[i][0]*xx[i] for i in range(m)) + c )\n",
    "maxpdi.hideOutput()\n",
    "maxpdi.optimize()\n",
    "SOL = maxpdi.getBestSol()\n",
    "x_max = [SOL[xx[i]] for i in range(m)]\n",
    "OBJ = SOL[obj]\n",
    "print(f\"The maximum PDI={OBJ} is achieved at x1={x_max[0]} x2={x_max[1]} x3={x_max[2]}.\")"
   ]
  },
  {
   "cell_type": "markdown",
   "metadata": {},
   "source": [
    "----"
   ]
  },
  {
   "cell_type": "markdown",
   "metadata": {},
   "source": [
    "## Optimization: Tracking a specific PDI value\n",
    "\n",
    "Instead of the PDI value as high as possible, we may want a specific PDI value $p^{\\ast}$ that we prefer our pellets to have.\n",
    "\n",
    "Since we want to be as close to $p^{\\ast}$ as possible, the **square distance** between $q(x)$ and $p^{\\ast}$ is minimized:\n",
    "$$ \n",
    "\\begin{array}{cl}\n",
    "\\min \\quad &J(x) := (q(x) - p^{\\ast})^{2} \\\\\n",
    "\\text{s.t.}\\quad & x \\in [-1,1]^{m}.\n",
    "\\end{array}\n",
    "$$\n",
    "\n",
    "This is no longer a quadratic program, but is still a **convex optimization problem** (check its eigenvalues).\n",
    "With the structure, we aim to use the projected gradient descent method to solve this problem.\n",
    "Recalling that $q(x) = x^{\\top}Ax + b^{\\top} + c$, we have $\\nabla q(x) = 2Ax + b$ and then\n",
    "$$\n",
    "\\nabla J(x) = 2(q(x) - p^{\\ast}) \\nabla q(x) = 2(q(x) - p^{\\ast})(2Ax + b).\n",
    "$$\n",
    "The **projected gradient descent method (PGDM)** with diminishing rate is described as follows.\n",
    "\n",
    "- **Initialization** Pick an initial point $x$ and an initial learning rate $\\alpha > 0$.\n",
    "- **Repeat**\n",
    "   * Compute: $q(x^{0})$\n",
    "   * Update learning rate: $\\alpha \\leftarrow \\alpha/2$\n",
    "   * Gradient step: $x \\leftarrow x - 2\\alpha(q(x) - p^{\\ast})(2Ax + b)$\n",
    "   * Projection step:\n",
    "       * For $i = 1,\\dots,m$;\n",
    "           - If $x_{i} \\leq -1$, $x_{i} \\leftarrow -1$;\n",
    "           - If $x_{i} \\geq 1$, $x_{i} \\leftarrow 1$;\n",
    "- **Until** A stopping criterion is satisfied.\n",
    "- **Return** $x$"
   ]
  },
  {
   "cell_type": "code",
   "execution_count": 8,
   "metadata": {},
   "outputs": [
    {
     "data": {
      "text/plain": [
       "array([ True,  True,  True])"
      ]
     },
     "execution_count": 8,
     "metadata": {},
     "output_type": "execute_result"
    }
   ],
   "source": [
    "# Check the eigenvalues of A for convexity check.\n",
    "np.linalg.eig(A)[0] >= 0"
   ]
  },
  {
   "cell_type": "code",
   "execution_count": 9,
   "metadata": {},
   "outputs": [
    {
     "name": "stdout",
     "output_type": "stream",
     "text": [
      "x = [0.96816063 0.96858384 0.96878871] q(x) = [[93.77224431]]\n"
     ]
    }
   ],
   "source": [
    "p_star = 94.0\n",
    "J = lambda x: (q(x) - p_star)**2\n",
    "\n",
    "XX = np.array([1,1,1.]).reshape((-1,1))\n",
    "alpha = 0.001\n",
    "\n",
    "for k in range(20):\n",
    "    qq = q(XX)\n",
    "    alpha /= 2\n",
    "    XX -= 2*alpha*(qq - p_star)*(2*A@XX + b)\n",
    "    # print(f\"Step{k}\\t x = {XX}\")\n",
    "    for i in range(m):\n",
    "        if XX[i] <= -1:\n",
    "            XX[i] = -1\n",
    "        elif XX[i] >= 1:\n",
    "            XX[i] = 1\n",
    "    # print(f\"After proj, x = {XX}\")\n",
    "print(f\"x = {XX.reshape((-1,))} q(x) = {q(XX)}\")"
   ]
  },
  {
   "cell_type": "markdown",
   "metadata": {},
   "source": [
    "### The failure of OFF-THE-SHELF solvers\n",
    "Eventhough PySCIPOpt is advertised to solve nonlinear problems, it has its limitation outside the quadratic realm.\n",
    "\n",
    "The following shows that PySCIPOpt fails to track the value of $p^{\\ast}$."
   ]
  },
  {
   "cell_type": "code",
   "execution_count": 10,
   "metadata": {},
   "outputs": [],
   "source": [
    "m2 = Model()\n",
    "t = m2.addVar(vtype='C', name='t')\n",
    "xx = [m2.addVar(vtype='C', lb=-1, ub=1, name=f'x{i}') for i in range(m)]\n",
    "Obj = m2.addVar(vtype='C', name=\"obj\")\n",
    "m2.setObjective(obj, sense='minimize')\n",
    "m2.addCons( (t - p_star)**2 <= Obj )\n",
    "m2.addCons( t == \n",
    "                  quicksum(A[i][j]*xx[i]*xx[j] for i in range(m) for j in range(m))\n",
    "                  + quicksum(b[i][0]*xx[i] for i in range(m)) + c )\n",
    "m2.hideOutput()\n",
    "m2.optimize()"
   ]
  },
  {
   "cell_type": "code",
   "execution_count": 11,
   "metadata": {},
   "outputs": [
    {
     "name": "stdout",
     "output_type": "stream",
     "text": [
      "{'t': 98.288125001, 'x0': 1.0, 'x1': 1.0, 'x2': 1.0, 'obj': 100000.0}\n"
     ]
    }
   ],
   "source": [
    "SOL = m2.getBestSol()\n",
    "print(SOL)"
   ]
  },
  {
   "cell_type": "markdown",
   "metadata": {},
   "source": [
    "Note that the solution from the PySCIPOpt does not make sense, as the value of `Obj` should at most be $(t-p^{\\ast})^{2}$."
   ]
  },
  {
   "cell_type": "markdown",
   "metadata": {},
   "source": [
    "----"
   ]
  }
 ],
 "metadata": {
  "colab": {
   "provenance": []
  },
  "kernelspec": {
   "display_name": "Python 3 (ipykernel)",
   "language": "python",
   "name": "python3"
  },
  "language_info": {
   "codemirror_mode": {
    "name": "ipython",
    "version": 3
   },
   "file_extension": ".py",
   "mimetype": "text/x-python",
   "name": "python",
   "nbconvert_exporter": "python",
   "pygments_lexer": "ipython3",
   "version": "3.13.5"
  }
 },
 "nbformat": 4,
 "nbformat_minor": 4
}
