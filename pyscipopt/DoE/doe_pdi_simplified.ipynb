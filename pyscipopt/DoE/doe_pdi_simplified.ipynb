{
 "cells": [
  {
   "cell_type": "markdown",
   "metadata": {},
   "source": [
    "# Design of Experiments and Optimization: Pellet mill\n",
    "**Design of Experiments (DoE)** is a key tool in diagnostic analytics which, together with **response surface method (RSM)**, extends to have a predictive ability.\n",
    "It helps understanding the relationship between the explanatory variables (independent variables) and the response variable (dependent variable).\n",
    "The response surface itself is also used in deriving an optimal settings in a process.\n",
    "\n",
    "## What is in this notebook?\n",
    "We provide a demo of how one steps from the diagnostic DoE, to the predictive RSM, and finally to do optimization.\n",
    "The example is extremely simplified in order to point out crucial ideas visually."
   ]
  },
  {
   "attachments": {},
   "cell_type": "markdown",
   "metadata": {
    "id": "T1e2ir16KI7t"
   },
   "source": [
    "## An example\n",
    "\n",
    "Let us consider a process of producing feed pellets from a die pellet mill.\n",
    "We shall consider two factors, the die temperature and the moisture content, and find their relationship with the pellet durabiliy measured in PDI unit.\n",
    "\n",
    "### Factors and their levels\n",
    "| Factor | Symbol | Low(-1) | Mid (0) | High (+1) |\n",
    "|:---:|:---:|:---:|:---:|:---:|\n",
    "| Die temperature ($^{\\circ}$C) | $x_{1}$ | 80 | 100| 120 |\n",
    "| Moisture content (%) | $x_{2}$ | 10 | 15 | 20 |\n",
    "\n",
    "### Central composite design (CCD) with responses\n",
    "Suppose that the following table is used and the corresponding PDI is measured.\n",
    "\n",
    "| Run | $x_{1}$ | $x_{2}$ | Response (PDI) |\n",
    "|:---:|:---:|:---:|:---:|\n",
    "| 1 | -1 | -1 | 85 |\n",
    "| 2 | +1 | -1 | 87 |\n",
    "| 3 | -1 | +1 | 80 |\n",
    "| 4 | +1 | +1 | 84 |\n",
    "| 5 | 0 | 0 | 87 |"
   ]
  },
  {
   "cell_type": "markdown",
   "metadata": {},
   "source": [
    "### Response surface\n",
    "Below, we construct the response surface by using the quadratic regression applied to the above DoE table."
   ]
  },
  {
   "cell_type": "code",
   "execution_count": null,
   "metadata": {
    "colab": {
     "base_uri": "https://localhost:8080/"
    },
    "executionInfo": {
     "elapsed": 10053,
     "status": "ok",
     "timestamp": 1750575098874,
     "user": {
      "displayName": "Parin Chaipunya",
      "userId": "06652034587521806476"
     },
     "user_tz": -420
    },
    "id": "HRglvK4FF5Pi",
    "outputId": "2033fa24-8da2-4d01-c971-ab54a36af4fe"
   },
   "outputs": [],
   "source": [
    "!pip install pyscipopt"
   ]
  },
  {
   "cell_type": "code",
   "execution_count": null,
   "metadata": {
    "id": "3bZAMEO8FvDE"
   },
   "outputs": [],
   "source": [
    "import numpy as np\n",
    "from pyscipopt import Model, quicksum\n",
    "import matplotlib.pyplot as plt\n",
    "from mpl_toolkits.mplot3d import Axes3D"
   ]
  },
  {
   "cell_type": "code",
   "execution_count": null,
   "metadata": {
    "id": "Xod4fLCWFyo6"
   },
   "outputs": [],
   "source": [
    "# Create the quadratic RSM from the DoE table.\n",
    "x1 = np.array([-1, 1, -1, 1, 0])\n",
    "x2 = np.array([-1, -1, 1, 1, 0])\n",
    "y = np.array([85, 87, 80, 84, 87])\n",
    "X = np.array([np.ones(np.shape(x1)),\n",
    "              x1,\n",
    "              x2,\n",
    "              x1**2,\n",
    "              x2**2,\n",
    "              x1*x2]).T\n",
    "u = np.linalg.lstsq(X.T@X,X.T@y)[0]\n",
    "q = lambda x1,x2: u[0] + u[1]*x1 + u[2]*x2 + u[3]*x1**2 + u[4]*x2**2 + u[5]*x1*x2"
   ]
  },
  {
   "cell_type": "code",
   "execution_count": null,
   "metadata": {
    "colab": {
     "base_uri": "https://localhost:8080/",
     "height": 415
    },
    "executionInfo": {
     "elapsed": 462,
     "status": "ok",
     "timestamp": 1750575099397,
     "user": {
      "displayName": "Parin Chaipunya",
      "userId": "06652034587521806476"
     },
     "user_tz": -420
    },
    "id": "0wqn7y8JRGT6",
    "outputId": "e3a0cebf-2142-40e6-daaf-cae8f1b7d84e"
   },
   "outputs": [],
   "source": [
    "# Illustrate the RSM.\n",
    "fig = plt.figure()\n",
    "ax = fig.add_subplot(111, projection='3d')\n",
    "\n",
    "x1_surf, x2_surf = np.meshgrid(np.linspace(-1,1,10), np.linspace(-1,1,10))\n",
    "q_surf = q(x1_surf, x2_surf)\n",
    "ax.plot_surface(x1_surf, x2_surf, q_surf, cmap='viridis', alpha=0.8)\n",
    "\n",
    "ax.scatter(x1, x2, y, c='b', marker='o')\n",
    "\n",
    "ax.set_xlabel('$x_{1}$')\n",
    "ax.set_ylabel('$x_{2}$')\n",
    "ax.set_zlabel('Response (PDI)')\n",
    "\n",
    "ax.view_init(30, 60, 0)\n",
    "\n",
    "plt.show()"
   ]
  },
  {
   "cell_type": "markdown",
   "metadata": {},
   "source": [
    "### Optimization\n",
    "Now that the response surface is obtained, we use it to find a setting that maximizes the PDI value."
   ]
  },
  {
   "cell_type": "code",
   "execution_count": null,
   "metadata": {
    "id": "e2vxSr5lUr5N"
   },
   "outputs": [],
   "source": [
    "# Maximize the PDI.\n",
    "\n",
    "m = Model()\n",
    "x = [m.addVar(vtype='I', lb=-1, ub=1, name=f\"x{i}\") for i in range(2)]\n",
    "obj = m.addVar(vtype='C', name=\"obj\")\n",
    "m.setObjective(obj, sense='maximize')\n",
    "m.addCons(obj <= u[0] + u[1]*x[0] + u[2]*x[1] + u[3]*x[0]**2 + u[4]*x[1]**2 + u[5]*x[0]*x[1])\n",
    "m.optimize()"
   ]
  },
  {
   "cell_type": "code",
   "execution_count": null,
   "metadata": {
    "colab": {
     "base_uri": "https://localhost:8080/"
    },
    "executionInfo": {
     "elapsed": 9,
     "status": "ok",
     "timestamp": 1750575099418,
     "user": {
      "displayName": "Parin Chaipunya",
      "userId": "06652034587521806476"
     },
     "user_tz": -420
    },
    "id": "8IrBrZ0HWfs8",
    "outputId": "ced4990c-612b-4597-f8b9-ef5cc2629a32"
   },
   "outputs": [],
   "source": [
    "# Get the solution\n",
    "\n",
    "SOL= m.getBestSol()\n",
    "x_opt = [SOL[x[0]], SOL[x[1]]]\n",
    "pdi_opt = m.getObjVal()\n",
    "print(f\"Max PDI: {pdi_opt}\\nObtained at: x1 = {x_opt[0]} x2 = {x_opt[1]}\")"
   ]
  },
  {
   "cell_type": "code",
   "execution_count": null,
   "metadata": {
    "colab": {
     "base_uri": "https://localhost:8080/",
     "height": 415
    },
    "executionInfo": {
     "elapsed": 80,
     "status": "ok",
     "timestamp": 1750575099500,
     "user": {
      "displayName": "Parin Chaipunya",
      "userId": "06652034587521806476"
     },
     "user_tz": -420
    },
    "id": "8mIH8EImXG95",
    "outputId": "9e8e4737-c3db-4e20-e07d-7b093c432378"
   },
   "outputs": [],
   "source": [
    "# Illustrate the solution\n",
    "\n",
    "fig = plt.figure()\n",
    "ax = fig.add_subplot(111, projection='3d')\n",
    "\n",
    "x1_surf, x2_surf = np.meshgrid(np.linspace(-1,1,10), np.linspace(-1,1,10))\n",
    "q_surf = q(x1_surf, x2_surf)\n",
    "ax.plot_surface(x1_surf, x2_surf, q_surf, cmap='viridis', alpha=0.8)\n",
    "\n",
    "ax.scatter(x_opt[0], x_opt[1], pdi_opt, c='r', s=100, marker='*')\n",
    "\n",
    "ax.view_init(30, 60, 0)\n",
    "\n",
    "plt.show()"
   ]
  },
  {
   "cell_type": "markdown",
   "metadata": {
    "id": "e40HwX18Z1KG"
   },
   "source": [
    "----"
   ]
  }
 ],
 "metadata": {
  "colab": {
   "provenance": []
  },
  "kernelspec": {
   "display_name": "Python 3 (ipykernel)",
   "language": "python",
   "name": "python3"
  },
  "language_info": {
   "codemirror_mode": {
    "name": "ipython",
    "version": 3
   },
   "file_extension": ".py",
   "mimetype": "text/x-python",
   "name": "python",
   "nbconvert_exporter": "python",
   "pygments_lexer": "ipython3",
   "version": "3.13.5"
  }
 },
 "nbformat": 4,
 "nbformat_minor": 4
}
