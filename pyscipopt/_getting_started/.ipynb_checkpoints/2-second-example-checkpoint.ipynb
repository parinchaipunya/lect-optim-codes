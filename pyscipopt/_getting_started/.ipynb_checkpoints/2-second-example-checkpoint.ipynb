{
 "cells": [
  {
   "cell_type": "markdown",
   "id": "c06c5255-1fe7-430c-a32a-471195d30db7",
   "metadata": {},
   "source": [
    "## Optimization with `pyscipopt` (Part 2)"
   ]
  },
  {
   "cell_type": "code",
   "execution_count": 1,
   "id": "bbdc700f-e8ae-49c1-9284-f2100d285e3c",
   "metadata": {},
   "outputs": [],
   "source": [
    "from pyscipopt import Model, quicksum"
   ]
  },
  {
   "cell_type": "markdown",
   "id": "d3fd17e6-e065-4c5d-9da0-4e8a4d6ae7ca",
   "metadata": {},
   "source": [
    "### First example\n",
    "\n",
    "$$\n",
    "\\begin{array}{rl}\n",
    "\\max \\quad & 2x_{1} + 3x_{2} - x_{4} - x_{5} + x_{6} \\\\\n",
    "\\text{s.t.} \\quad \n",
    "& x_{1} + 3x_{2} \\leq 2 \\\\\n",
    "& x_{2} + x_{4} = 4 \\\\\n",
    "& x_{3} + x_{5} + x_{6} \\leq 3 \\\\\n",
    "& x_{1},\\dots,x_{6} \\geq 0 \\\\\n",
    "& x_{4},x_{5} \\in \\mathbb{Z} \\\\\n",
    "& x_{6} \\in \\{0,1\\}.\n",
    "\\end{array}\n",
    "$$"
   ]
  },
  {
   "cell_type": "code",
   "execution_count": 6,
   "id": "87b09c10-2afa-43d4-9d62-a9879ea8f4ed",
   "metadata": {},
   "outputs": [],
   "source": [
    "# Create model.\n",
    "m = Model()\n",
    "\n",
    "# Add variables.\n",
    "n = 6  # x[0], x[1], ... , x[5]\n",
    "x = [None for i in range(n)]   # Set up a dummy variable first.\n",
    "for i in range(3): # x[0],x[1],x[2]\n",
    "    x[i] = m.addVar(vtype='C', name=f\"x_{i}\")  # 'C' for Continuous.\n",
    "for i in range(3,5): # x[3],x[4]\n",
    "    x[i] = m.addVar(vtype='I', name=f\"x_{i}\")  # 'I' for Integer.\n",
    "x[5] = m.addVar(vtype='B', name=f\"x_{i}\")      # 'B' for Binary.\n",
    "\n",
    "# Add constraints\n",
    "m.addCons(x[0] + 3*x[1] <= 2)\n",
    "m.addCons(x[1] + x[3] == 4)\n",
    "m.addCons(x[2] + x[4] + x[5] <= 3)\n",
    "for i in range(n):\n",
    "    m.addCons(x[i] >= 0) # m.addCons(x[0] >= 0) ... m.addCons(x[5] >= 0)\n",
    "\n",
    "# Set objective\n",
    "c = [2, 3, 0, -1, -1, 1]\n",
    "m.setObjective(quicksum(c[i]*x[i] for i in range(n)), sense=\"maximize\")"
   ]
  },
  {
   "cell_type": "code",
   "execution_count": 7,
   "id": "f6d9e254-8c6f-4d9e-a567-aa2bc2ebe8f3",
   "metadata": {},
   "outputs": [
    {
     "name": "stdout",
     "output_type": "stream",
     "text": [
      "presolving:\n",
      "(round 1, fast)       3 del vars, 8 del conss, 0 add conss, 7 chg bounds, 0 chg sides, 0 chg coeffs, 0 upgd conss, 0 impls, 0 clqs\n",
      "(round 2, fast)       5 del vars, 9 del conss, 0 add conss, 7 chg bounds, 0 chg sides, 0 chg coeffs, 0 upgd conss, 0 impls, 0 clqs\n",
      "presolving (3 rounds: 3 fast, 1 medium, 1 exhaustive):\n",
      " 6 deleted vars, 9 deleted constraints, 0 added constraints, 7 tightened bounds, 0 added holes, 0 changed sides, 0 changed coefficients\n",
      " 0 implications, 0 cliques\n",
      "transformed 1/1 original solutions to the transformed problem space\n",
      "Presolving Time: 0.00\n",
      "\n",
      "SCIP Status        : problem is solved [optimal solution found]\n",
      "Solving Time (sec) : 0.00\n",
      "Solving Nodes      : 0\n",
      "Primal Bound       : +1.00000000000000e+00 (1 solutions)\n",
      "Dual Bound         : +1.00000000000000e+00\n",
      "Gap                : 0.00 %\n"
     ]
    }
   ],
   "source": [
    "# Solve.\n",
    "m.optimize()"
   ]
  },
  {
   "cell_type": "code",
   "execution_count": 8,
   "id": "2abf6231-8a27-4a39-8d14-764fa26670db",
   "metadata": {},
   "outputs": [
    {
     "name": "stdout",
     "output_type": "stream",
     "text": [
      "x_0 = 2.0\n",
      "x_1 = 0.0\n",
      "x_2 = 0.0\n",
      "x_3 = 4.0\n",
      "x_4 = -0.0\n",
      "x_5 = 1.0\n",
      "Optimal value: 1.0\n"
     ]
    }
   ],
   "source": [
    "# Get solutions.\n",
    "Sol = m.getBestSol()\n",
    "\n",
    "# Get objective value.\n",
    "Objval = m.getObjVal()\n",
    "\n",
    "# Print solutions.\n",
    "for i in range(n):\n",
    "    print(f\"x_{i} = {Sol[x[i]]}\")\n",
    "print(f\"Optimal value: {Objval}\")"
   ]
  },
  {
   "cell_type": "markdown",
   "id": "ef9914a0-4760-43c7-bef1-15154e371199",
   "metadata": {},
   "source": [
    "---"
   ]
  }
 ],
 "metadata": {
  "kernelspec": {
   "display_name": "Python 3 (ipykernel)",
   "language": "python",
   "name": "python3"
  },
  "language_info": {
   "codemirror_mode": {
    "name": "ipython",
    "version": 3
   },
   "file_extension": ".py",
   "mimetype": "text/x-python",
   "name": "python",
   "nbconvert_exporter": "python",
   "pygments_lexer": "ipython3",
   "version": "3.12.7"
  },
  "widgets": {
   "application/vnd.jupyter.widget-state+json": {
    "state": {},
    "version_major": 2,
    "version_minor": 0
   }
  }
 },
 "nbformat": 4,
 "nbformat_minor": 5
}
