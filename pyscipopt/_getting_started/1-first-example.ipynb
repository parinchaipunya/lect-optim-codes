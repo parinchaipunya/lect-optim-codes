{
 "cells": [
  {
   "cell_type": "markdown",
   "id": "16d309b8-0e1c-48ad-9356-26d25a4156f0",
   "metadata": {},
   "source": [
    "## Solving an optimization problem with `pyscipopt`\n",
    "\n",
    "The package `pyscipopt` is a `python` wrapper for the [SCIP](https://www.scipopt.org/) optimization solver, which is capable of solving *Linear* and *Quadratic Programs* of both *continuous* and *integer variables*."
   ]
  },
  {
   "cell_type": "code",
   "execution_count": 1,
   "id": "5466452b-7ca0-422f-b82c-23d62319b384",
   "metadata": {},
   "outputs": [],
   "source": [
    "from pyscipopt import Model"
   ]
  },
  {
   "cell_type": "markdown",
   "id": "1c2200bc-34ae-4ff6-905a-8d0165135d2c",
   "metadata": {},
   "source": [
    "### First example\n",
    "\n",
    "Consider the basic optimization problem:\n",
    "$$\n",
    "\\begin{array}{rl}\n",
    "\\min\\quad & x + y \\\\\n",
    "\\text{s.t.}\\quad \n",
    "& 2x + y \\geq 5 \\\\\n",
    "& x, y \\geq 0 \\\\\n",
    "& y \\in \\mathbb{Z}.\n",
    "\\end{array}\n",
    "$$"
   ]
  },
  {
   "cell_type": "code",
   "execution_count": 2,
   "id": "6955e947-8bbd-4fb5-82fd-5f026bdade94",
   "metadata": {},
   "outputs": [],
   "source": [
    "# Create an empty model.\n",
    "model = Model(\"Example\")  # model name is optional"
   ]
  },
  {
   "cell_type": "code",
   "execution_count": 3,
   "id": "e665c049-10b1-4efc-915f-e4663e65b949",
   "metadata": {},
   "outputs": [
    {
     "data": {
      "text/plain": [
       "c3"
      ]
     },
     "execution_count": 3,
     "metadata": {},
     "output_type": "execute_result"
    }
   ],
   "source": [
    "# Add variables.\n",
    "x = model.addVar(\"x\")\n",
    "y = model.addVar(\"y\", vtype=\"INTEGER\")  # vtype -> variable type\n",
    "\n",
    "# Add an objective function.\n",
    "model.setObjective(x + y)\n",
    "\n",
    "# Add constraints.\n",
    "model.addCons(2*x + y >= 5)\n",
    "model.addCons(x >= 0)\n",
    "model.addCons(y >= 0)"
   ]
  },
  {
   "cell_type": "code",
   "execution_count": 4,
   "id": "0cabbd8a-9d2b-4bd9-a752-b5c9a17034ab",
   "metadata": {},
   "outputs": [
    {
     "name": "stdout",
     "output_type": "stream",
     "text": [
      "feasible solution found by trivial heuristic after 0.0 seconds, objective value 2.000000e+05\n",
      "presolving:\n",
      "(round 1, fast)       0 del vars, 2 del conss, 0 add conss, 2 chg bounds, 0 chg sides, 0 chg coeffs, 0 upgd conss, 0 impls, 0 clqs\n",
      "(round 2, fast)       0 del vars, 2 del conss, 0 add conss, 4 chg bounds, 0 chg sides, 0 chg coeffs, 0 upgd conss, 0 impls, 0 clqs\n",
      "(round 3, fast)       1 del vars, 3 del conss, 0 add conss, 4 chg bounds, 0 chg sides, 0 chg coeffs, 0 upgd conss, 0 impls, 0 clqs\n",
      "presolving (4 rounds: 4 fast, 1 medium, 1 exhaustive):\n",
      " 2 deleted vars, 3 deleted constraints, 0 added constraints, 4 tightened bounds, 0 added holes, 0 changed sides, 0 changed coefficients\n",
      " 0 implications, 0 cliques\n",
      "transformed 1/2 original solutions to the transformed problem space\n",
      "Presolving Time: 0.00\n",
      "\n",
      "SCIP Status        : problem is solved [optimal solution found]\n",
      "Solving Time (sec) : 0.00\n",
      "Solving Nodes      : 0\n",
      "Primal Bound       : +2.50000000000000e+00 (2 solutions)\n",
      "Dual Bound         : +2.50000000000000e+00\n",
      "Gap                : 0.00 %\n"
     ]
    }
   ],
   "source": [
    "# Solve.\n",
    "model.optimize()\n",
    "\n",
    "# Get the solutions.\n",
    "sol = model.getBestSol()"
   ]
  },
  {
   "cell_type": "code",
   "execution_count": 5,
   "id": "742f2a43-f40f-4021-a127-dd8485f2b210",
   "metadata": {},
   "outputs": [
    {
     "name": "stdout",
     "output_type": "stream",
     "text": [
      "{'y': -0.0, 'x': 2.5}\n"
     ]
    }
   ],
   "source": [
    "print(sol)"
   ]
  },
  {
   "cell_type": "code",
   "execution_count": 5,
   "id": "ec87f586-0dc2-42ae-b647-ef0a26e828ed",
   "metadata": {},
   "outputs": [
    {
     "name": "stdout",
     "output_type": "stream",
     "text": [
      "x: 2.5, y: -0.0\n"
     ]
    }
   ],
   "source": [
    "print(f\"x: {sol[x]}, y: {sol[y]}\")"
   ]
  },
  {
   "cell_type": "markdown",
   "id": "465cbe30-8d7b-4f10-8d3b-8adbdd0548f8",
   "metadata": {},
   "source": [
    "----"
   ]
  },
  {
   "cell_type": "markdown",
   "id": "0808de74-2869-4b3c-b637-a37a866c0b92",
   "metadata": {},
   "source": [
    "### Another example\n",
    "\n",
    "$$\n",
    "\\begin{array}{rl}\n",
    "\\min\\quad & 2x + 3y - 5z \\\\\n",
    "\\text{s.t.}\\quad & x + y \\leq 5 \\\\\n",
    "     & x + z \\geq 3 \\\\\n",
    "     & y + z = 4 \\\\\n",
    "     & x,y,z \\geq 0\n",
    "\\end{array}\n",
    "$$\n"
   ]
  },
  {
   "cell_type": "code",
   "execution_count": 10,
   "id": "4bba52bb-4f3b-4368-88e4-f2b4e88fd80c",
   "metadata": {},
   "outputs": [],
   "source": [
    "# Create another model.\n",
    "mdl = Model()\n",
    "\n",
    "# Add variables.\n",
    "x = mdl.addVar(vtype='C', lb=0, ub=None, name='x')  # vtype='C' (for 'Continuous' = Real)\n",
    "y = mdl.addVar(vtype='C', lb=0, ub=None, name='y')\n",
    "z = mdl.addVar(vtype='C', lb=0, ub=None, name='z')\n",
    "\n",
    "# Add constraints.\n",
    "cons_1 = mdl.addCons(x + y <= 5, name=\"cons_1\")\n",
    "cons_2 = mdl.addCons(y + z >= 3, name=\"cons_2\")\n",
    "cons_3 = mdl.addCons(y + z == 4, name=\"cons_3\")\n",
    "\n",
    "# Add objective function.\n",
    "mdl.setObjective(2 * x + 3 * y - 5 * z, sense=\"minimize\")"
   ]
  },
  {
   "cell_type": "code",
   "execution_count": 12,
   "id": "a513fff7-7e86-4e97-be5a-d0d415f657c5",
   "metadata": {},
   "outputs": [
    {
     "name": "stdout",
     "output_type": "stream",
     "text": [
      "x: 0.0, y: 0.0, z: 4.0\n",
      "Optimal value: -20.0\n"
     ]
    }
   ],
   "source": [
    "# Solve.\n",
    "mdl.optimize()\n",
    "\n",
    "# Get solutions.\n",
    "Sol = mdl.getBestSol()\n",
    "\n",
    "# Get objective value.\n",
    "Objval = mdl.getObjVal()\n",
    "\n",
    "# Print solutions.\n",
    "print(f\"x: {Sol[x]}, y: {Sol[y]}, z: {Sol[z]}\")\n",
    "print(f\"Optimal value: {Objval}\") \n",
    "\n",
    "x: 2.0, y: 3.0, z: 0.0"
   ]
  },
  {
   "cell_type": "markdown",
   "id": "1f0f031f-b95b-4cca-8e9c-4b54a567b554",
   "metadata": {},
   "source": [
    "---"
   ]
  },
  {
   "cell_type": "markdown",
   "id": "0df6e355-0325-40c7-b854-669c384810fe",
   "metadata": {},
   "source": [
    "### When there are many variables\n",
    "\n",
    "$$\n",
    "\\begin{array}{rl}\n",
    "\\min \\quad & x_{1} + x_{2} + \\dots + x_{20} \\\\\n",
    "\\text{s.t.} \\quad \n",
    "& x_{1} + x_{2} + \\dots + x_{10} \\geq 5 \\\\\n",
    "& x_{5} + x_{6} + \\dots + x_{15} = 4 \\\\\n",
    "& x_{11} + x_{12} + \\dots + x_{20} \\leq 5 \\\\\n",
    "& x_{2} + x_{4} + \\dots + x_{20} = 6 \\\\\n",
    "& 0 \\leq x_{1},\\dots,x_{20} \\leq 3.\n",
    "\\end{array}\n",
    "$$"
   ]
  },
  {
   "cell_type": "code",
   "execution_count": 13,
   "id": "e17eb442-f114-4be6-924f-55dda071de1b",
   "metadata": {},
   "outputs": [],
   "source": [
    "from pyscipopt import quicksum"
   ]
  },
  {
   "cell_type": "code",
   "execution_count": 32,
   "id": "42780646-1b73-4985-a595-ee63652ec954",
   "metadata": {},
   "outputs": [
    {
     "data": {
      "text/plain": [
       "c4"
      ]
     },
     "execution_count": 32,
     "metadata": {},
     "output_type": "execute_result"
    }
   ],
   "source": [
    "m = Model()\n",
    "\n",
    "# add variables\n",
    "x = [None for i in range(20)]\n",
    "for i in range(20):\n",
    "    x[i] = m.addVar(lb=0, ub=3, name=f\"x_{i}\")\n",
    "    \n",
    "# set objective function\n",
    "m.setObjective( quicksum( x[i] for i in range(20) ) )\n",
    "\n",
    "# add constraints\n",
    "m.addCons( quicksum( x[i] for i in range(10) ) >= 5 )\n",
    "m.addCons( quicksum( x[i] for i in range(4,15) ) == 4 )\n",
    "m.addCons( quicksum( x[i] for i in range(10,20) ) <= 5 )\n",
    "m.addCons( quicksum( x[2*i+1] for i in range(10) ) == 6)"
   ]
  },
  {
   "cell_type": "code",
   "execution_count": 39,
   "id": "fe3dc844-2aa9-49f9-925d-54ea9e5476e5",
   "metadata": {},
   "outputs": [
    {
     "name": "stdout",
     "output_type": "stream",
     "text": [
      "presolving:\n",
      "(round 1, fast)       2 del vars, 0 del conss, 0 add conss, 0 chg bounds, 0 chg sides, 0 chg coeffs, 0 upgd conss, 0 impls, 0 clqs\n",
      "   (0.0s) symmetry computation started: requiring (bin +, int +, cont +), (fixed: bin -, int -, cont -)\n",
      "   (0.0s) symmetry computation finished: 11 generators found (max: 1500, log10 of symmetry group size: 0.0) (symcode time: 0.00)\n",
      "dynamic symmetry handling statistics:\n",
      "   orbitopal reduction:       no components\n",
      "   orbital reduction:         no components\n",
      "   lexicographic reduction:   no permutations\n",
      "handled 7 out of 7 symmetry components\n",
      "(round 2, exhaustive) 2 del vars, 0 del conss, 11 add conss, 0 chg bounds, 0 chg sides, 0 chg coeffs, 0 upgd conss, 0 impls, 0 clqs\n",
      "presolving (3 rounds: 3 fast, 2 medium, 2 exhaustive):\n",
      " 2 deleted vars, 0 deleted constraints, 11 added constraints, 0 tightened bounds, 0 added holes, 0 changed sides, 0 changed coefficients\n",
      " 0 implications, 0 cliques\n",
      "presolved problem has 18 variables (0 bin, 0 int, 0 impl, 18 cont) and 15 constraints\n",
      "     15 constraints of type <linear>\n",
      "Presolving Time: 0.00\n",
      "\n",
      " time | node  | left  |LP iter|LP it/n|mem/heur|mdpt |vars |cons |rows |cuts |sepa|confs|strbr|  dualbound   | primalbound  |  gap   | compl. \n",
      "* 0.0s|     1 |     0 |     4 |     - |    LP  |   0 |  18 |  15 |  15 |   0 |  0 |   0 |   0 | 6.000000e+00 | 6.000000e+00 |   0.00%| unknown\n",
      "  0.0s|     1 |     0 |     4 |     - |   936k |   0 |  18 |  15 |  15 |   0 |  0 |   0 |   0 | 6.000000e+00 | 6.000000e+00 |   0.00%| unknown\n",
      "\n",
      "SCIP Status        : problem is solved [optimal solution found]\n",
      "Solving Time (sec) : 0.00\n",
      "Solving Nodes      : 1\n",
      "Primal Bound       : +6.00000000000000e+00 (1 solutions)\n",
      "Dual Bound         : +6.00000000000000e+00\n",
      "Gap                : 0.00 %\n"
     ]
    }
   ],
   "source": [
    "m.optimize()"
   ]
  },
  {
   "cell_type": "code",
   "execution_count": 40,
   "id": "db08582c-e317-4ee4-903b-316b06c791bc",
   "metadata": {},
   "outputs": [
    {
     "name": "stdout",
     "output_type": "stream",
     "text": [
      "{'x_0': 0.0, 'x_1': 2.0, 'x_2': 0.0, 'x_3': 0.0, 'x_4': 0.0, 'x_5': 1.5, 'x_6': 0.0, 'x_7': 1.5, 'x_8': 0.0, 'x_9': 0.0, 'x_10': 0.0, 'x_11': 1.0, 'x_12': 0.0, 'x_13': 0.0, 'x_14': 0.0, 'x_15': 0.0, 'x_16': 0.0, 'x_17': 0.0, 'x_18': 0.0, 'x_19': 0.0}\n"
     ]
    }
   ],
   "source": [
    "sol = m.getBestSol()\n",
    "print(sol)"
   ]
  },
  {
   "cell_type": "code",
   "execution_count": 41,
   "id": "b6d3dc4c-0290-4ebd-9269-1c17f173200f",
   "metadata": {},
   "outputs": [
    {
     "name": "stdout",
     "output_type": "stream",
     "text": [
      "[0.0, 2.0, 0.0, 0.0, 0.0, 1.5, 0.0, 1.5, 0.0, 0.0, 0.0, 1.0, 0.0, 0.0, 0.0, 0.0, 0.0, 0.0, 0.0, 0.0]\n"
     ]
    }
   ],
   "source": [
    "SOL = [sol[x[i]] for i in range(20)]\n",
    "print(SOL)"
   ]
  }
 ],
 "metadata": {
  "kernelspec": {
   "display_name": "Python 3 (ipykernel)",
   "language": "python",
   "name": "python3"
  },
  "language_info": {
   "codemirror_mode": {
    "name": "ipython",
    "version": 3
   },
   "file_extension": ".py",
   "mimetype": "text/x-python",
   "name": "python",
   "nbconvert_exporter": "python",
   "pygments_lexer": "ipython3",
   "version": "3.13.5"
  },
  "widgets": {
   "application/vnd.jupyter.widget-state+json": {
    "state": {},
    "version_major": 2,
    "version_minor": 0
   }
  }
 },
 "nbformat": 4,
 "nbformat_minor": 5
}
