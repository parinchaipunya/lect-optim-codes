{
 "cells": [
  {
   "cell_type": "markdown",
   "id": "16d309b8-0e1c-48ad-9356-26d25a4156f0",
   "metadata": {},
   "source": [
    "## Solving an optimization problem with `pyscipopt`\n",
    "\n",
    "The package `pyscipopt` is a `python` wrapper for the [SCIP](https://www.scipopt.org/) optimization solver, which is capable of solving *Linear* and *Quadratic Programs* of both *continuous* and *integer variables*."
   ]
  },
  {
   "cell_type": "code",
   "execution_count": 1,
   "id": "5466452b-7ca0-422f-b82c-23d62319b384",
   "metadata": {},
   "outputs": [],
   "source": [
    "from pyscipopt import Model"
   ]
  },
  {
   "cell_type": "markdown",
   "id": "1c2200bc-34ae-4ff6-905a-8d0165135d2c",
   "metadata": {},
   "source": [
    "### First example\n",
    "\n",
    "Consider the basic optimization problem:\n",
    "$$\n",
    "\\begin{array}{rl}\n",
    "\\min\\quad & x + y \\\\\n",
    "\\text{s.t.}\\quad \n",
    "& 2x + y \\geq 5 \\\\\n",
    "& x, y \\geq 0 \\\\\n",
    "& y \\in \\mathbb{Z}.\n",
    "\\end{array}\n",
    "$$"
   ]
  },
  {
   "cell_type": "code",
   "execution_count": 9,
   "id": "6955e947-8bbd-4fb5-82fd-5f026bdade94",
   "metadata": {},
   "outputs": [],
   "source": [
    "# Create an empty model.\n",
    "model = Model(\"Example\")  # model name is optional"
   ]
  },
  {
   "cell_type": "code",
   "execution_count": 10,
   "id": "e665c049-10b1-4efc-915f-e4663e65b949",
   "metadata": {},
   "outputs": [
    {
     "data": {
      "text/plain": [
       "c3"
      ]
     },
     "execution_count": 10,
     "metadata": {},
     "output_type": "execute_result"
    }
   ],
   "source": [
    "# Add variables.\n",
    "x = model.addVar(\"x\")\n",
    "y = model.addVar(\"y\", vtype=\"INTEGER\")  # vtype -> variable type\n",
    "\n",
    "# Add an objective function.\n",
    "model.setObjective(x + y)\n",
    "\n",
    "# Add constraints.\n",
    "model.addCons(2*x + y >= 5)\n",
    "model.addCons(x >= 0)\n",
    "model.addCons(y >= 0)"
   ]
  },
  {
   "cell_type": "code",
   "execution_count": 13,
   "id": "0cabbd8a-9d2b-4bd9-a752-b5c9a17034ab",
   "metadata": {},
   "outputs": [],
   "source": [
    "# Solve.\n",
    "model.optimize()\n",
    "\n",
    "# Get the solutions.\n",
    "sol = model.getBestSol()"
   ]
  },
  {
   "cell_type": "code",
   "execution_count": 14,
   "id": "742f2a43-f40f-4021-a127-dd8485f2b210",
   "metadata": {},
   "outputs": [
    {
     "name": "stdout",
     "output_type": "stream",
     "text": [
      "{'y': -0.0, 'x': 2.5}\n"
     ]
    }
   ],
   "source": [
    "print(sol)"
   ]
  },
  {
   "cell_type": "code",
   "execution_count": 5,
   "id": "ec87f586-0dc2-42ae-b647-ef0a26e828ed",
   "metadata": {},
   "outputs": [
    {
     "name": "stdout",
     "output_type": "stream",
     "text": [
      "x: 2.5, y: -0.0\n"
     ]
    }
   ],
   "source": [
    "print(f\"x: {sol[x]}, y: {sol[y]}\")"
   ]
  },
  {
   "cell_type": "markdown",
   "id": "465cbe30-8d7b-4f10-8d3b-8adbdd0548f8",
   "metadata": {},
   "source": [
    "----"
   ]
  },
  {
   "cell_type": "markdown",
   "id": "0808de74-2869-4b3c-b637-a37a866c0b92",
   "metadata": {},
   "source": [
    "### Another example\n",
    "\n",
    "$$\n",
    "\\begin{array}{rl}\n",
    "\\min\\quad & 2x + 3y - 5z \\\\\n",
    "\\text{s.t.}\\quad & x + y \\leq 5 \\\\\n",
    "     & x + z \\geq 3 \\\\\n",
    "     & y + z = 4 \\\\\n",
    "     & x,y,z \\geq 0\n",
    "\\end{array}\n",
    "$$\n"
   ]
  },
  {
   "cell_type": "code",
   "execution_count": 15,
   "id": "4bba52bb-4f3b-4368-88e4-f2b4e88fd80c",
   "metadata": {},
   "outputs": [],
   "source": [
    "# Create another model.\n",
    "mdl = Model()\n",
    "\n",
    "# Add variables.\n",
    "x = mdl.addVar(vtype='C', lb=0, ub=None, name='x')  # vtype='C' (for 'Continuous' = Real)\n",
    "y = mdl.addVar(vtype='C', lb=0, ub=None, name='y')\n",
    "z = mdl.addVar(vtype='C', lb=0, ub=None, name='z')\n",
    "\n",
    "# Add constraints.\n",
    "cons_1 = mdl.addCons(x + y <= 5, name=\"cons_1\")\n",
    "cons_2 = mdl.addCons(y + z >= 3, name=\"cons_2\")\n",
    "cons_3 = mdl.addCons(x + y == 5, name=\"cons_3\")\n",
    "\n",
    "# Add objective function.\n",
    "mdl.setObjective(2 * x + 3 * y + 5 * z, sense=\"minimize\")"
   ]
  },
  {
   "cell_type": "code",
   "execution_count": 17,
   "id": "a513fff7-7e86-4e97-be5a-d0d415f657c5",
   "metadata": {},
   "outputs": [
    {
     "name": "stdout",
     "output_type": "stream",
     "text": [
      "x: 2.0, y: 3.0, z: 0.0\n",
      "Optimal value: 13.0\n"
     ]
    }
   ],
   "source": [
    "# Solve.\n",
    "mdl.optimize()\n",
    "\n",
    "# Get solutions.\n",
    "Sol = mdl.getBestSol()\n",
    "\n",
    "# Get objective value.\n",
    "Objval = mdl.getObjVal()\n",
    "\n",
    "# Print solutions.\n",
    "print(f\"x: {Sol[x]}, y: {Sol[y]}, z: {Sol[z]}\")\n",
    "print(f\"Optimal value: {Objval}\")"
   ]
  },
  {
   "cell_type": "markdown",
   "id": "1f0f031f-b95b-4cca-8e9c-4b54a567b554",
   "metadata": {},
   "source": [
    "---"
   ]
  }
 ],
 "metadata": {
  "kernelspec": {
   "display_name": "Python 3 (ipykernel)",
   "language": "python",
   "name": "python3"
  },
  "language_info": {
   "codemirror_mode": {
    "name": "ipython",
    "version": 3
   },
   "file_extension": ".py",
   "mimetype": "text/x-python",
   "name": "python",
   "nbconvert_exporter": "python",
   "pygments_lexer": "ipython3",
   "version": "3.12.7"
  },
  "widgets": {
   "application/vnd.jupyter.widget-state+json": {
    "state": {},
    "version_major": 2,
    "version_minor": 0
   }
  }
 },
 "nbformat": 4,
 "nbformat_minor": 5
}
