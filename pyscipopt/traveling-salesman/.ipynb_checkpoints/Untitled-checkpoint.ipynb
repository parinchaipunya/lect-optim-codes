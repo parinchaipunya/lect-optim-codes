{
 "cells": [
  {
   "cell_type": "markdown",
   "id": "4ae829eb-fe3d-4eed-9f58-b85a5848e2b2",
   "metadata": {},
   "source": [
    "# Traveling Salesman Problem (TSP)\n",
    "\n",
    "## Framework\n",
    "\n",
    "The Traveling Salesman Problem (TSP) is composed of\n",
    "- $n$ locations to visit, and\n",
    "- a salesman who will make a tour.\n",
    "\n",
    "The aim of a TSP is to **minimize the total cost of the tour** in such a way that **all the $n$ locations are visited only once** and **the tour starts and ends at the same location**.\n",
    "\n",
    "## Model\n",
    "\n",
    "|**Data** | |\n",
    "|:---|:---|\n",
    "|$i$ | Integers from $1$ to $n$ representing the nodes. |\n",
    "|$c_{ij} > 0$ | The cost of travel from the node $i$ to the node $j$. |\n",
    "\n",
    "|**Variables** | |\n",
    "|:---|:---|\n",
    "|$x_{ij} \\in \\{0,1\\}$ | The decision either to travel from the note $i$ to the node $j$. |\n",
    "\n",
    "Here we make the following interpretation on the variables $x_{ij}$:\n",
    "$$\n",
    "x_{ij} = \n",
    "\\begin{cases}\n",
    "1 & \\text{if there is a travel from $i$ to $j$,} \\\\\n",
    "0 & \\text{if there is no travel from $i$ to $j$.}\n",
    "\\end{cases}\n",
    "$$\n",
    "\n",
    "### Objective function\n",
    "\n",
    "The total cost of the tour is given by\n",
    "$$\n",
    "Z = \\sum_{i = 1}^{n} \\sum_{j = 1}^{n} c_{ij}x_{ij},\n",
    "$$\n",
    "where this cost is to be minimized.\n",
    "\n",
    "### Constraints\n",
    "\n",
    "- No self-visit: $$x_{ii} = 0, \\qquad (\\forall i = 1,\\dots,n) \\iff \\sum_{i=1}^{n} x_{ii} = 0.$$\n",
    "- Unique inbound: $$\\sum_{i=1}^{n} x_{ij} = 1, \\qquad (\\forall j = 1,\\dots,n).$$\n",
    "- Unique outbound: $$\\sum_{j=1}^{n} x_{ij} = 1, \\qquad (\\forall i = 1,\\dots,n).$$\n",
    "- No subtour: $$\\sum_{i,j \\in Q} x_{ij} \\leq |Q| - 1, \\qquad (\\forall Q \\subsetneq \\{1,\\dots,n\\},\\; |Q| \\geq 2).$$"
   ]
  },
  {
   "cell_type": "markdown",
   "id": "3124fd82-28f1-4e6d-8556-543d5d88aa14",
   "metadata": {},
   "source": [
    "### First Example\n",
    "\n",
    "Consider the simple case that consists of $4$ nodes with the following traveling costs between nodes.\n",
    "\n",
    "| Nodes | 1 | 2 | 3 | 4 |\n",
    "|:---:|:---:|:---:|:---:|:---:|\n",
    "| **1** | - | 10 | 9 | 11 |\n",
    "| **2** | 7 | - | 12 | 10 |\n",
    "| **3** | 11 | 9 | - | 12 |\n",
    "| **4** | 10 | 8 | 8 | - |"
   ]
  },
  {
   "cell_type": "code",
   "execution_count": 1,
   "id": "5d6d9636-a1a8-4b91-96f6-73216b9684fd",
   "metadata": {},
   "outputs": [],
   "source": [
    "import numpy as np\n",
    "from pyscipopt import quicksum, Model"
   ]
  },
  {
   "cell_type": "code",
   "execution_count": 2,
   "id": "b3311b8e-7183-4306-91d8-5263b48ed066",
   "metadata": {},
   "outputs": [],
   "source": [
    "n = 4\n",
    "N = np.arange(4)\n",
    "c = np.array([\n",
    "    [0, 10, 9, 11],\n",
    "    [7, 0, 12, 10],\n",
    "    [11, 9, 0, 12],\n",
    "    [10, 8, 8, 0]\n",
    "])"
   ]
  },
  {
   "cell_type": "code",
   "execution_count": 29,
   "id": "232a241f-e144-4c32-8638-9d4d187cdf13",
   "metadata": {},
   "outputs": [
    {
     "data": {
      "text/plain": [
       "c19"
      ]
     },
     "execution_count": 29,
     "metadata": {},
     "output_type": "execute_result"
    }
   ],
   "source": [
    "tsp = Model()\n",
    "\n",
    "# Define x[i][j]\n",
    "x = [[tsp.addVar(vtype='B') for j in range(n)] for i in range(n)]\n",
    "\n",
    "# Define objective function\n",
    "tsp.setObjective(quicksum(c[i][j]*x[i][j] for i in range(n) for j in range(n)), sense='minimize')\n",
    "\n",
    "# Constraints\n",
    "# No self-visit.\n",
    "tsp.addCons(quicksum(x[i][i] for i in range(n)) == 0)\n",
    "# Unique inbound.\n",
    "for j in range(n):\n",
    "    tsp.addCons(quicksum(x[i][j] for i in range(n)) == 1)\n",
    "# Unique outbound.\n",
    "for i in range(n):\n",
    "    tsp.addCons(quicksum(x[i][j] for j in range(n)) == 1)\n",
    "# No subtour.\n",
    "tsp.addCons(x[0][1] + x[1][0] <= 1)\n",
    "tsp.addCons(x[0][2] + x[2][0] <= 1)\n",
    "tsp.addCons(x[0][3] + x[3][0] <= 1)\n",
    "tsp.addCons(x[1][2] + x[2][1] <= 1)\n",
    "tsp.addCons(x[1][3] + x[3][1] <= 1)\n",
    "tsp.addCons(x[2][3] + x[3][2] <= 1)\n",
    "tsp.addCons(x[0][1] + x[1][0] + x[0][2] + x[2][0] + x[1][2] + x[2][1] <= 2)\n",
    "tsp.addCons(x[0][1] + x[1][0] + x[0][3] + x[3][0] + x[1][3] + x[3][1] <= 2)\n",
    "tsp.addCons(x[0][2] + x[2][0] + x[0][3] + x[3][0] + x[2][3] + x[3][2] <= 2)\n",
    "tsp.addCons(x[1][2] + x[2][1] + x[1][3] + x[3][1] + x[2][3] + x[3][2] <= 2)"
   ]
  },
  {
   "cell_type": "code",
   "execution_count": 30,
   "id": "0590d6a9-bfd5-40b1-a3b0-0b0a5b8ffc23",
   "metadata": {},
   "outputs": [
    {
     "name": "stdout",
     "output_type": "stream",
     "text": [
      "presolving:\n",
      "(round 1, fast)       4 del vars, 1 del conss, 0 add conss, 4 chg bounds, 0 chg sides, 0 chg coeffs, 0 upgd conss, 0 impls, 14 clqs\n",
      "(round 2, exhaustive) 4 del vars, 1 del conss, 0 add conss, 4 chg bounds, 0 chg sides, 0 chg coeffs, 18 upgd conss, 0 impls, 14 clqs\n",
      "   (0.0s) probing cycle finished: starting next cycle\n",
      "   (0.0s) symmetry computation started: requiring (bin +, int +, cont +), (fixed: bin -, int -, cont -)\n",
      "   (0.0s) no symmetry present (symcode time: 0.00)\n",
      "presolving (3 rounds: 3 fast, 2 medium, 2 exhaustive):\n",
      " 4 deleted vars, 1 deleted constraints, 0 added constraints, 4 tightened bounds, 0 added holes, 0 changed sides, 0 changed coefficients\n",
      " 0 implications, 14 cliques\n",
      "presolved problem has 12 variables (12 bin, 0 int, 0 impl, 0 cont) and 18 constraints\n",
      "      4 constraints of type <knapsack>\n",
      "     14 constraints of type <setppc>\n",
      "transformed objective value is always integral (scale: 1)\n",
      "Presolving Time: 0.00\n",
      "\n",
      " time | node  | left  |LP iter|LP it/n|mem/heur|mdpt |vars |cons |rows |cuts |sepa|confs|strbr|  dualbound   | primalbound  |  gap   | compl. \n",
      "p 0.0s|     1 |     0 |     0 |     - |  clique|   0 |  12 |  18 |  18 |   0 |  0 |   0 |   0 | 0.000000e+00 | 3.600000e+01 |    Inf | unknown\n",
      "p 0.0s|     1 |     0 |     0 |     - |   locks|   0 |  12 |  18 |  18 |   0 |  0 |   0 |   0 | 0.000000e+00 | 3.500000e+01 |    Inf | unknown\n",
      "  0.0s|     1 |     0 |     6 |     - |   747k |   0 |  12 |  18 |  18 |   0 |  0 |   0 |   0 | 3.500000e+01 | 3.500000e+01 |   0.00%| unknown\n",
      "\n",
      "SCIP Status        : problem is solved [optimal solution found]\n",
      "Solving Time (sec) : 0.00\n",
      "Solving Nodes      : 1\n",
      "Primal Bound       : +3.50000000000000e+01 (2 solutions)\n",
      "Dual Bound         : +3.50000000000000e+01\n",
      "Gap                : 0.00 %\n"
     ]
    }
   ],
   "source": [
    "tsp.optimize()\n",
    "SOL = tsp.getBestSol()"
   ]
  },
  {
   "cell_type": "code",
   "execution_count": 31,
   "id": "fbaeca81-99c2-4f2f-a167-8742c481fc2b",
   "metadata": {},
   "outputs": [
    {
     "name": "stdout",
     "output_type": "stream",
     "text": [
      "x_0_0 = -0.0\n",
      "x_0_1 = 0.0\n",
      "x_0_2 = 0.0\n",
      "x_0_3 = 1.0\n",
      "x_1_0 = 1.0\n",
      "x_1_1 = -0.0\n",
      "x_1_2 = 0.0\n",
      "x_1_3 = 0.0\n",
      "x_2_0 = 0.0\n",
      "x_2_1 = 1.0\n",
      "x_2_2 = -0.0\n",
      "x_2_3 = 0.0\n",
      "x_3_0 = 0.0\n",
      "x_3_1 = 0.0\n",
      "x_3_2 = 1.0\n",
      "x_3_3 = -0.0\n"
     ]
    }
   ],
   "source": [
    "for i in range(n):\n",
    "    for j in range(n):\n",
    "        print(f\"x_{i}_{j} = {SOL[x[i][j]]}\")"
   ]
  },
  {
   "cell_type": "markdown",
   "id": "aee80c89-2cb6-47b1-8d3f-2e9a1459f916",
   "metadata": {},
   "source": [
    "----"
   ]
  },
  {
   "cell_type": "markdown",
   "id": "565ddd5c-b9c0-4cc5-8d43-7164a02ca17f",
   "metadata": {},
   "source": [
    "### Using `itertools.combinations`"
   ]
  },
  {
   "cell_type": "code",
   "execution_count": null,
   "id": "5e3c6282-bf5b-4575-8864-fe5e93dce46b",
   "metadata": {},
   "outputs": [],
   "source": [
    "from itertools import combinations"
   ]
  },
  {
   "cell_type": "code",
   "execution_count": 22,
   "id": "2623eca5-6472-4989-9266-07839c691ec1",
   "metadata": {},
   "outputs": [],
   "source": [
    "TSP = Model()\n",
    "\n",
    "x = [[TSP.addVar(vtype='B') for j in range(n)] for i in range(n)]\n",
    "\n",
    "TSP.setObjective(quicksum(c[i][j]*x[i][j] for i in range(n) for j in range(n)), sense='minimize')\n",
    "\n",
    "TSP.addCons(quicksum(x[i][i] for i in range(n)) == 0)\n",
    "for j in range(n):\n",
    "    TSP.addCons(quicksum(x[i][j] for i in range(n)) == 1)\n",
    "for i in range(n):\n",
    "    TSP.addCons(quicksum(x[i][j] for j in range(n)) == 1)\n",
    "for q in range(2,n):\n",
    "    for combi in combinations(N,q):\n",
    "        TSP.addCons(quicksum(x[i][j] for i in combi for j in combi) <= q-1 )"
   ]
  },
  {
   "cell_type": "code",
   "execution_count": 14,
   "id": "98487e7f-ffb9-469b-b5b5-22a2724b81c5",
   "metadata": {},
   "outputs": [],
   "source": [
    "TSP.hideOutput()\n",
    "TSP.optimize()\n",
    "SOL = TSP.getBestSol()"
   ]
  },
  {
   "cell_type": "code",
   "execution_count": 15,
   "id": "93424fc9-2c1d-48f6-b7c5-63e9623d556d",
   "metadata": {},
   "outputs": [],
   "source": [
    "import networkx as nx"
   ]
  },
  {
   "cell_type": "code",
   "execution_count": 16,
   "id": "a3eb3c7a-8bae-4066-825c-26e130f7a1a2",
   "metadata": {},
   "outputs": [],
   "source": [
    "X = np.array([[SOL[x[i][j]] for j in range(n)] for i in range(n)])\n",
    "\n",
    "G = nx.DiGraph(X)\n",
    "labeldict = {}\n",
    "for i in range(n):\n",
    "    labeldict[i] = f\"{i}\""
   ]
  },
  {
   "cell_type": "code",
   "execution_count": 12,
   "id": "86df2abc-1af0-4093-8210-cb6863da5312",
   "metadata": {},
   "outputs": [
    {
     "data": {
      "image/png": "[encoded data removed]",
      "text/plain": [
       "<Figure size 640x480 with 1 Axes>"
      ]
     },
     "metadata": {},
     "output_type": "display_data"
    }
   ],
   "source": [
    "nx.draw(G, labels=labeldict)"
   ]
  },
  {
   "cell_type": "markdown",
   "id": "5455024e-b58f-4df1-b859-551864f6bc3e",
   "metadata": {},
   "source": [
    "----"
   ]
  }
 ],
 "metadata": {
  "kernelspec": {
   "display_name": "Python 3 (ipykernel)",
   "language": "python",
   "name": "python3"
  },
  "language_info": {
   "codemirror_mode": {
    "name": "ipython",
    "version": 3
   },
   "file_extension": ".py",
   "mimetype": "text/x-python",
   "name": "python",
   "nbconvert_exporter": "python",
   "pygments_lexer": "ipython3",
   "version": "3.12.7"
  },
  "widgets": {
   "application/vnd.jupyter.widget-state+json": {
    "state": {},
    "version_major": 2,
    "version_minor": 0
   }
  }
 },
 "nbformat": 4,
 "nbformat_minor": 5
}
