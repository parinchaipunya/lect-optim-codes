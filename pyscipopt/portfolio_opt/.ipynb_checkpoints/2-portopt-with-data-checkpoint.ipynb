{
 "cells": [
  {
   "cell_type": "markdown",
   "id": "efcddf73-3375-4a7b-8524-f708d65b4548",
   "metadata": {},
   "source": [
    "# Portfolio optimization with data\n",
    "\n",
    "The key challenge in portfolio optimization is the implementation of the data in order to get accurate *expected returns* and *risk evaluation*.\n",
    "In this notebook, we shall go through a simple preparation process that turns the asset data into the problem-ready data.\n",
    "*Note that there is no one-size-fits-all recipe for data preparation. In practice, this changes from situation to situation.*\n",
    "\n",
    "## Return calculation\n",
    "There are many ways to derive the return vector. \n",
    "It is agreed that one of the best way is to use the $\\$/\\$$ (reads *dollar-per-dollar*) approach.\n",
    "This approach calculate the net return (in $\\$$ unit) per $\\$1$ of investment:\n",
    "$$\n",
    "\\text{Return} = \\frac{\\text{Future value} - \\text{Present value}}{\\text{Present value}}.\n",
    "$$\n",
    "\n",
    "## Preparing $R$ and $\\Sigma$ from the past data\n",
    "One of the standard way to prepare the problem data (the vector $R$ of expecte return and the covariance matrix $\\Sigma$) is to use the past data of asset values.\n",
    "\n",
    "### A minireview of *expectation* and *covariance*\n",
    "Recall that from the data (a *random variable*, in fact) $X = (X_{1},\\dots,X_{N})$, the *expected value* (or *average*) of this data is computed by\n",
    "$$\n",
    "\\mathbb{E}X = \\frac{1}{N}\\sum_{i=1}^{N} X_{i} = \\frac{1}{N}(X_{1} + \\dots + X_{n}) = \\frac{1}{N}\\mathbf{1}^{T}X,\n",
    "$$\n",
    "where $\\mathbf{1} = (\\underbrace{1,\\dots,1}_{\\text{$N$ times}})$.\n",
    "\n",
    "If $Y = (Y_{1},\\dots,Y_{N})$ is another data column, then we measure the *covariance* between $X$ and $Y$ by\n",
    "\n",
    "\\begin{align*}\n",
    "\\sigma_{XY} &= \\mathbb{E}[(X - \\mathbb{E}X)(Y - \\mathbb{E}Y)] \\\\\n",
    "&= \\frac{1}{N}\\sum_{i=1}^{N} (X_{i} - \\mathbb{E}X)(Y_{i} - \\mathbb{E}Y) \\\\\n",
    "&= \\frac{1}{N}(X - \\mathbb{E}X\\mathbf{1})^{T}(Y - \\mathbb{E}Y\\mathbf{1}).\n",
    "\\end{align*}\n",
    "\n",
    "The value of $\\sigma_{XY}$ reflects whether the values of $X$ and $Y$ go in the same trend ($\\sigma_{XY} > 0$), go in the opposite way ($\\sigma_{XY} < 0$), or inconclusive ($\\sigma_{XY} = 0$).\n",
    "From its formula, we may see that\n",
    "$$\n",
    "\\sigma_{XY} = \\sigma_{YX}\n",
    "$$\n",
    "and that the covariance between $X$ and itself, $\\sigma_{XX}$, becomes the variance $\\sigma^{2}_{X} = \\mathbb{E}[(X - \\mathbb{E}X)^{2}]$."
   ]
  },
  {
   "cell_type": "markdown",
   "id": "7f47d6f9-4e32-4816-b953-fd3792facfc9",
   "metadata": {},
   "source": [
    "## Example\n",
    "Consider two assets $A$ and $B$ with the following past values:\n",
    "\n",
    "| Timestamp | Asset value of $A$ | Asset value of $B$ |\n",
    "|:---:|:---:|:---:|\n",
    "|Jan|2.53|12.02|\n",
    "|Feb|2.45|12.08|\n",
    "|Mar|2.50|11.68|\n",
    "|Apr|2.69|11.57|\n",
    "|May|2.65|11.80|\n",
    "|Jun|2.67|11.98|\n",
    "\n",
    "**Problem:** Find the vector $R$ of expected returns of each assets as well as the *covariance matrix*."
   ]
  },
  {
   "cell_type": "code",
   "execution_count": 1,
   "id": "6a5f9991-5ac8-4549-b085-2981102d60ec",
   "metadata": {},
   "outputs": [],
   "source": [
    "import numpy as np"
   ]
  },
  {
   "cell_type": "code",
   "execution_count": 2,
   "id": "dc45f28c-1fe2-4e7c-8a21-ea912d4ca640",
   "metadata": {},
   "outputs": [],
   "source": [
    "val_A = np.array([2.53, 2.45, 2.50, 2.69, 2.65, 2.67])\n",
    "val_B = np.array([12.02, 12.08, 11.68, 11.57, 11.80, 11.98])"
   ]
  },
  {
   "cell_type": "code",
   "execution_count": 3,
   "id": "967a4cc0-5f99-402a-b398-9c637b491412",
   "metadata": {},
   "outputs": [],
   "source": [
    "ret_A = (val_A[1:] - val_A[:-1])/val_A[:-1]\n",
    "ret_B = (val_B[1:] - val_B[:-1])/val_B[:-1]\n",
    "ave_ret_A = np.average(ret_A)\n",
    "ave_ret_B = np.average(ret_B)\n",
    "R = np.array([ave_ret_A, ave_ret_B])\n",
    "Sigma = np.cov(ret_A,ret_B,ddof=0)"
   ]
  },
  {
   "cell_type": "code",
   "execution_count": 4,
   "id": "8c506532-551a-466c-8e88-f377adb08269",
   "metadata": {},
   "outputs": [
    {
     "name": "stdout",
     "output_type": "stream",
     "text": [
      "Vector of average return\n",
      "R = \n",
      "[ 0.01149298 -0.0004811 ]\n",
      "\n",
      "Covariance matrix\n",
      "Sigma = \n",
      "[[ 0.001362   -0.00034044]\n",
      " [-0.00034044  0.00036735]]\n"
     ]
    }
   ],
   "source": [
    "print(f\"Vector of average return\\nR = \\n{R}\\n\")\n",
    "print(f\"Covariance matrix\\nSigma = \\n{Sigma}\")"
   ]
  },
  {
   "cell_type": "code",
   "execution_count": 5,
   "id": "9c41b7d7-ac83-4061-a590-911943d93d41",
   "metadata": {},
   "outputs": [],
   "source": [
    "from pyscipopt import Model, quicksum\n",
    "import matplotlib.pyplot as plt"
   ]
  },
  {
   "cell_type": "code",
   "execution_count": 6,
   "id": "ab1b9c92-2c30-45ad-a647-96e0e464c87c",
   "metadata": {},
   "outputs": [
    {
     "data": {
      "image/png": "[encoded data removed]",
      "text/plain": [
       "<Figure size 640x480 with 1 Axes>"
      ]
     },
     "metadata": {},
     "output_type": "display_data"
    }
   ],
   "source": [
    "Etas = np.arange(0.02,1.01,0.02)\n",
    "cases = np.shape(Etas)[0]\n",
    "P = cases * [None]\n",
    "Ret = cases * [None]\n",
    "Var = cases * [None]\n",
    "\n",
    "for e in range(cases):\n",
    "    eta = Etas[e]\n",
    "\n",
    "    # Create the model\n",
    "    port = Model(\"Portfolio optimization for two assets\")\n",
    "    \n",
    "    # Add variables and constraints\n",
    "    p = [None for i in range(2)]\n",
    "    for i in range(2):\n",
    "        p[i] = port.addVar(vtype='C', lb=0, ub=None, name=f\"p_{i}\")\n",
    "    port.addCons(quicksum(p[i] for i in range(2)) == 1, name=\"budget\")\n",
    "    \n",
    "    # The objective is Nonlinear. We need the following TRICK.\n",
    "    obj = port.addVar(vtype='C', lb=None, ub=None, name='objective value')\n",
    "    port.addCons(obj >= quicksum(Sigma[i][j]*p[i]*p[j] for i in range(2) for j in range(2)) \n",
    "             - eta*quicksum(R[i]*p[i] for i in range(2)))\n",
    "    port.setObjective(obj, sense=\"minimize\")\n",
    "\n",
    "    # Solve\n",
    "    port.hideOutput()\n",
    "    port.optimize()\n",
    "\n",
    "    # Collect solutions\n",
    "    SOL = port.getBestSol()\n",
    "    Port = np.array(2*[None])\n",
    "    for i in range(2):\n",
    "        Port[i] = SOL[p[i]]\n",
    "    P[e] = Port\n",
    "    Ret[e] = np.dot(R,P[e])\n",
    "    Var[e] = np.dot(P[e],np.dot(Sigma,P[e]))\n",
    "\n",
    "P = np.array(P)\n",
    "plt.plot(Var,Ret)\n",
    "plt.show()"
   ]
  },
  {
   "cell_type": "markdown",
   "id": "bcb69713-f822-4749-812d-6609a9fdf7c7",
   "metadata": {},
   "source": [
    "---"
   ]
  }
 ],
 "metadata": {
  "kernelspec": {
   "display_name": "Python 3 (ipykernel)",
   "language": "python",
   "name": "python3"
  },
  "language_info": {
   "codemirror_mode": {
    "name": "ipython",
    "version": 3
   },
   "file_extension": ".py",
   "mimetype": "text/x-python",
   "name": "python",
   "nbconvert_exporter": "python",
   "pygments_lexer": "ipython3",
   "version": "3.12.7"
  },
  "widgets": {
   "application/vnd.jupyter.widget-state+json": {
    "state": {},
    "version_major": 2,
    "version_minor": 0
   }
  }
 },
 "nbformat": 4,
 "nbformat_minor": 5
}
