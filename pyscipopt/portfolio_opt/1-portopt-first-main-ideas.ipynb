{
 "cells": [
  {
   "cell_type": "markdown",
   "id": "642e6a98-52ca-40f4-a6d1-71ebcb296e60",
   "metadata": {
    "editable": true,
    "slideshow": {
     "slide_type": ""
    },
    "tags": []
   },
   "source": [
    "# Portfolio Optimization\n",
    "\n",
    "## Main ideas\n",
    "The goal of **portfolio optimization** is to optimally allocate the budget into different assets in order to obtain a *high return* with *low risk*.\n",
    "The difficulty of portfolio optimization lies in the uncertainty of the future value of assets. \n",
    "\n",
    "For this problem, the decision is made at the *initial time* $t_{0}$ and the return is to be evaluated at the future *terminal time* $t_{1}$.\n",
    "<!-- Let us focus on the pre-chosen $N$ assets, $a_{1},a_{2},\\dots,a_{N}$, and suppose that we could estimate the *expected return* of the asset $a_{i}$ with $R_{i}$ (for all $i = 1,2,\\dots,N$). \n",
    "Also suppose that we know the covariance between the expected return of assets $a_{i}$ and $a_{j}$ to be $\\sigma_{ij}$.\n",
    "\n",
    "Thus, the vector of expected returns of $a_{1},\\dots,a_{N}$ is\n",
    "$$\n",
    "R = (R_{1},\\dots,R_{N})\n",
    "$$\n",
    "and the corresponding covariance matrix is\n",
    "$$\n",
    "\\Sigma = [\\sigma_{ij}]_{i,j = 1,\\dots,N} = \n",
    "\\begin{bmatrix} \\sigma_{11} & \\sigma_{12} & \\dots & \\sigma_{1N} \\\\\n",
    "\\sigma_{21} & \\sigma_{22} & \\dots & \\sigma_{2N} \\\\\n",
    "\\vdots & \\vdots & \\ddots & \\vdots \\\\\n",
    "\\sigma_{N1} & \\sigma_{N2} & \\dots & \\sigma_{NN}\n",
    "\\end{bmatrix}.\n",
    "$$ -->"
   ]
  },
  {
   "cell_type": "markdown",
   "id": "5f1b587f-d972-4e84-a648-2078c7931105",
   "metadata": {
    "editable": true,
    "slideshow": {
     "slide_type": ""
    },
    "tags": []
   },
   "source": [
    "## Problem setups\n",
    "The problem starts with a pre-selected assets $a_{1},\\dots,a_{N}$.\n",
    "\n",
    "### Problem data\n",
    "- The *expected return vector* $R = (R_{1},\\dots,R_{N})$ where $R_{i}$ is the *expected return* of the asset $a_{i}$ at time $t_{1}$ compared to the initial time $t_{0}$.\n",
    "- The corresponding *covariance matrix*\n",
    "$$\n",
    "\\Sigma = [\\sigma_{ij}]_{i,j = 1,\\dots,N} = \n",
    "\\begin{bmatrix} \\sigma_{11} & \\sigma_{12} & \\dots & \\sigma_{1N} \\\\\n",
    "\\sigma_{21} & \\sigma_{22} & \\dots & \\sigma_{2N} \\\\\n",
    "\\vdots & \\vdots & \\ddots & \\vdots \\\\\n",
    "\\sigma_{N1} & \\sigma_{N2} & \\dots & \\sigma_{NN}\n",
    "\\end{bmatrix},\n",
    "$$\n",
    "where $\\sigma_{ij}$ denotes the *covariance* or the data behind $R_{i}$ and $R_{j}$.\n",
    "Also note that $\\sigma_{ij} = \\sigma_{ji}$.\n",
    "\n",
    "### Variables\n",
    "- A *portfolio* $p = (p_{1},\\dots,p_{N}) \\in \\mathbb{R}^{N}$, where $p_{i}$ is the proportion of the budget to be invested in $a_{i}$.\n",
    "\n",
    "### Constraints\n",
    "- The *budget* constraint: $\\sum_{i=1}^{N} p_{i} = 1$.\n",
    "- The *no-short-sales* constriant: $p_{i} \\geq 0$ for all $i = 1,\\dots,N$.\n",
    "\n",
    "### Objectives\n",
    "The objective of the problem is to gain *high expected return* with *low variance* (i.e. low risk). In practice, both would not occurs at the same time as a general rule-of-thumb: **high risk, high return**. Hence balancing between *return* and *risk* is the key in portfolio optimization:\n",
    "$$\n",
    "f(p) =  \\underbrace{p^{T}\\Sigma p}_{\\text{risk}} - \\eta \\underbrace{R^{T}p}_{\\text{expected return}} \\quad\\leftarrow \\text{Minimize},\n",
    "$$\n",
    "where $\\eta > 0$ is the *trade-off parameter*. It can be viewed that when $\\eta$ gets larger, the optimal portfolio becomes more risky.\n",
    "\n",
    "### Portfolio optimization\n",
    "With a fixed trade-off $\\eta > 0$, the corresponding portfolio optimization is defined by\n",
    "$$\n",
    "\\begin{array}{rl}\n",
    "\\min & \\displaystyle p^{T}\\Sigma p - \\eta R^{T}p = \\sum_{i=1}^{N}\\sum_{j=1}^{N} \\sigma_{ij}p_{i}p_{j} - \\eta\\sum_{i=1}^{N} R_{i}p_{i} \\\\\n",
    "\\text{s.t.} & \\displaystyle \\sum_{i=1}^{N} p_{i} = 1 \\\\\n",
    "& p_{i} \\geq 0 \\quad (i = 1,\\dots,N).\n",
    "\\end{array}\n",
    "$$"
   ]
  },
  {
   "cell_type": "markdown",
   "id": "ef5a9297-7d79-4bef-93d1-9704b4abda21",
   "metadata": {},
   "source": [
    "---"
   ]
  },
  {
   "cell_type": "markdown",
   "id": "ab0396e8-3dfd-42bc-bf39-db875236ba02",
   "metadata": {},
   "source": [
    "## First example\n",
    "\n",
    "Find an optimal portfolio invested into two assets $A$ and $B$ with the following statistics:\n",
    "\n",
    "| $R_{A}$ | $R_{B}$ | $\\sigma_{AA}$ | $\\sigma_{BB}$ | $\\sigma_{AB} = \\sigma_{BA}$ |\n",
    "|:---:|:---:|:---:|:---:|:---:|\n",
    "| 0.175 | 0.055 | 0.067 | 0.013 | -0.005 |"
   ]
  },
  {
   "cell_type": "code",
   "execution_count": 1,
   "id": "949e8854-3bc5-4d05-8d42-d58fd855af53",
   "metadata": {
    "editable": true,
    "slideshow": {
     "slide_type": ""
    },
    "tags": []
   },
   "outputs": [],
   "source": [
    "from pyscipopt import Model, quicksum\n",
    "import numpy as np"
   ]
  },
  {
   "cell_type": "code",
   "execution_count": 2,
   "id": "63c9f28d-37c5-4f37-b420-b282161cac27",
   "metadata": {
    "editable": true,
    "slideshow": {
     "slide_type": ""
    },
    "tags": []
   },
   "outputs": [],
   "source": [
    "# Data\n",
    "R = np.array([.175, .055])\n",
    "Sigma = np.array([[.067, -.005], [-.005, .013]])\n",
    "\n",
    "# Trade-off parameter\n",
    "eta = .5\n",
    "\n",
    "# Create the model\n",
    "port = Model(\"Portfolio optimization for two assets\")\n",
    "\n",
    "# Add variables and constraints\n",
    "p = [port.addVar(vtype='C', lb=0, ub=None, name=f\"p_{i}\") for i in range(2)]\n",
    "port.addCons(quicksum(p[i] for i in range(2)) == 1, name=\"budget\")\n",
    "\n",
    "# The objective is Nonlinear. We need the following TRICK.\n",
    "obj = port.addVar(vtype='C', lb=None, ub=None, name='objective value')\n",
    "port.addCons(obj >= quicksum(Sigma[i][j]*p[i]*p[j] for i in range(2) for j in range(2)) \n",
    "             - eta*quicksum(R[i]*p[i] for i in range(2)))\n",
    "port.setObjective(obj, sense=\"minimize\")"
   ]
  },
  {
   "cell_type": "code",
   "execution_count": 3,
   "id": "1bcbcb83-21c7-428c-9bb7-933c62c90c1a",
   "metadata": {},
   "outputs": [],
   "source": [
    "port.hideOutput()\n",
    "port.optimize()"
   ]
  },
  {
   "cell_type": "code",
   "execution_count": 4,
   "id": "2b961c9e-3987-4c3b-a52f-876661a40982",
   "metadata": {},
   "outputs": [
    {
     "name": "stdout",
     "output_type": "stream",
     "text": [
      "Optimal portfolio\n",
      "Investment in Asset A: = 0.5333333300400662\n",
      "Investment in Asset B: 0.4666666699599338\n",
      "Expected return of this portfolio = 0.11899999960480795\n",
      "Variance of this portfolio = 0.019399999802403974\n"
     ]
    }
   ],
   "source": [
    "SOL = port.getBestSol()\n",
    "Port = np.array(2*[None])\n",
    "for i in range(2):\n",
    "    Port[i] = SOL[p[i]]\n",
    "Return = np.dot(R,Port)\n",
    "Variance = np.dot(Port,np.dot(Sigma,Port))\n",
    "\n",
    "print(f\"Optimal portfolio\\nInvestment in Asset A: = {Port[0]}\\nInvestment in Asset B: {Port[1]}\")\n",
    "print(f\"Expected return of this portfolio = {Return}\")\n",
    "print(f\"Variance of this portfolio = {Variance}\")"
   ]
  },
  {
   "cell_type": "markdown",
   "id": "6c5bb867-e708-4d3e-8a8f-ec37ca7d51e7",
   "metadata": {},
   "source": [
    "---"
   ]
  },
  {
   "cell_type": "markdown",
   "id": "92df02d2-ce9e-4e75-ad90-85cf75069def",
   "metadata": {},
   "source": [
    "## The efficient frontier\n",
    "\n",
    "In practice, we do not know what\n",
    "\n",
    "Let us resolve the above problem at different trade-off parameters $\\eta = 0.02,0.04,\\dots,1$, and collect their solutions."
   ]
  },
  {
   "cell_type": "code",
   "execution_count": 5,
   "id": "297e07ed-bf80-4e12-8f6a-c3ec7346e775",
   "metadata": {},
   "outputs": [
    {
     "name": "stdout",
     "output_type": "stream",
     "text": [
      "eta=0.02, Portfolio=[0.21333333764752238 0.7866666623524776], Expected Return=0.08060000051770269, Variance=0.009416000010354055\n",
      "eta=0.04, Portfolio=[0.22666667531820361 0.7733333246817964], Expected Return=0.08220000103818442, Variance=0.009464000041527382\n",
      "eta=0.06, Portfolio=[0.24000004020945176 0.7599999597905482], Expected Return=0.08380000482513421, Variance=0.009544000289508199\n",
      "eta=0.08, Portfolio=[0.2533333464490408 0.7466666535509592], Expected Return=0.08540000157388489, Variance=0.009656000125910807\n",
      "eta=0.1, Portfolio=[0.2666666959773295 0.7333333040226705], Expected Return=0.08700000351727954, Variance=0.009800000351728032\n",
      "eta=0.12000000000000001, Portfolio=[0.28000001589489565 0.7199999841051044], Expected Return=0.08860000190738748, Variance=0.00997600022888652\n",
      "eta=0.13999999999999999, Portfolio=[0.2933333100841836 0.7066666899158164], Expected Return=0.09019999721010202, Variance=0.010183999609414334\n",
      "eta=0.16, Portfolio=[0.30666664309538283 0.6933333569046172], Expected Return=0.09179999717144594, Variance=0.010423999547431402\n",
      "eta=0.18, Portfolio=[0.3200000069502986 0.6799999930497014], Expected Return=0.09340000083403582, Variance=0.010696000150126457\n",
      "eta=0.19999999999999998, Portfolio=[0.3333333366833501 0.6666666633166499], Expected Return=0.09500000040200202, Variance=0.011000000080400404\n",
      "eta=0.22, Portfolio=[0.3466666758304785 0.6533333241695215], Expected Return=0.09660000109965741, Variance=0.011336000241924639\n",
      "eta=0.24, Portfolio=[0.3599999998736799 0.6400000001263201], Expected Return=0.0981999999848416, Variance=0.011703999996361982\n",
      "eta=0.26, Portfolio=[0.37333329071684795 0.626666709283152], Expected Return=0.09979999488602176, Variance=0.012103998670365821\n",
      "eta=0.28, Portfolio=[0.3866666521843132 0.6133333478156868], Expected Return=0.10139999826211758, Variance=0.012535999513392942\n",
      "eta=0.30000000000000004, Portfolio=[0.4000000000394637 0.5999999999605363], Expected Return=0.10300000000473564, Variance=0.013000000001420693\n",
      "eta=0.32, Portfolio=[0.41333333337297506 0.5866666666270249], Expected Return=0.104600000004757, Variance=0.013496000001522243\n",
      "eta=0.34, Portfolio=[0.42666666509282125 0.5733333349071787], Expected Return=0.10619999981113853, Variance=0.014023999935787108\n",
      "eta=0.36000000000000004, Portfolio=[0.43999994017167754 0.5600000598283225], Expected Return=0.1077999928206013, Variance=0.014583997415416793\n",
      "eta=0.38, Portfolio=[0.45333335149081144 0.5466666485091886], Expected Return=0.10940000217889737, Variance=0.015176000827981033\n",
      "eta=0.4, Portfolio=[0.4666666672462172 0.5333333327537828], Expected Return=0.11100000006954606, Variance=0.015800000027818426\n",
      "eta=0.42000000000000004, Portfolio=[0.47999999955319617 0.5200000004468038], Expected Return=0.11259999994638353, Variance=0.016455999977481085\n",
      "eta=0.44, Portfolio=[0.4933333333409333 0.5066666666590667], Expected Return=0.11420000000091199, Variance=0.01714400000040128\n",
      "eta=0.46, Portfolio=[0.5066666638335557 0.49333333616644426], Expected Return=0.11579999966002669, Variance=0.017863999843612276\n",
      "eta=0.48000000000000004, Portfolio=[0.5200000373069158 0.4799999626930842], Expected Return=0.1174000044768299, Variance=0.018616002148878475\n",
      "eta=0.5, Portfolio=[0.5333333300400662 0.4666666699599338], Expected Return=0.11899999960480795, Variance=0.019399999802403974\n",
      "eta=0.52, Portfolio=[0.5466667109044536 0.4533332890955463], Expected Return=0.12060000530853443, Variance=0.020216002760438084\n",
      "eta=0.54, Portfolio=[0.5600000379659229 0.4399999620340771], Expected Return=0.12220000455591075, Variance=0.02106400246019194\n",
      "eta=0.56, Portfolio=[0.5733333605210954 0.4266666394789046], Expected Return=0.12380000326253143, Variance=0.021944001827017678\n",
      "eta=0.5800000000000001, Portfolio=[0.5866666636826872 0.4133333363173129], Expected Return=0.12539999964192244, Variance=0.022855999792315024\n",
      "eta=0.6, Portfolio=[0.6000000453698767 0.3999999546301233], Expected Return=0.12700000544438522, Variance=0.023800003266631314\n",
      "eta=0.62, Portfolio=[0.6133333668242029 0.386666633175797], Expected Return=0.12860000401890434, Variance=0.024776002491720798\n",
      "eta=0.64, Portfolio=[0.6266666986905214 0.37333330130947856], Expected Return=0.13020000384286257, Variance=0.02578400245943214\n",
      "eta=0.66, Portfolio=[0.6400000190734287 0.35999998092657126], Expected Return=0.13180000228881145, Variance=0.026824001510615588\n",
      "eta=0.68, Portfolio=[0.6533333491803084 0.34666665081969167], Expected Return=0.133400001901637, Variance=0.02789600129311319\n",
      "eta=0.7000000000000001, Portfolio=[0.66666669445145 0.33333330554855], Expected Return=0.135000003334174, Variance=0.029000002333921873\n",
      "eta=0.7200000000000001, Portfolio=[0.6800000097009367 0.31999999029906334], Expected Return=0.1366000011641124, Variance=0.03013600083816094\n",
      "eta=0.74, Portfolio=[0.6933334476072919 0.3066665523927082], Expected Return=0.13820001371287502, Variance=0.0313040101475287\n",
      "eta=0.76, Portfolio=[0.7066665761127837 0.29333342388721634], Expected Return=0.13979998913353403, Variance=0.03250399174148661\n",
      "eta=0.78, Portfolio=[0.7199999997143111 0.28000000028568894], Expected Return=0.14139999996571734, Variance=0.03373599997325952\n",
      "eta=0.8, Portfolio=[0.733333336714533 0.26666666328546695], Expected Return=0.14300000040574395, Variance=0.035000000324595174\n",
      "eta=0.8200000000000001, Portfolio=[0.7466665578487652 0.25333344215123477], Expected Return=0.14459998694185183, Variance=0.036295989292319565\n",
      "eta=0.8400000000000001, Portfolio=[0.7599998732906899 0.24000012670931017], Expected Return=0.14619998479488278, Variance=0.037623987227702986\n",
      "eta=0.86, Portfolio=[0.7733332143619518 0.22666678563804818], Expected Return=0.1477999857234342, Variance=0.0389839877221547\n",
      "eta=0.88, Portfolio=[0.786666677775444 0.21333332222455603], Expected Return=0.14940000133305326, Variance=0.0403760011730869\n",
      "eta=0.9, Portfolio=[0.8000000126796295 0.1999999873203705], Expected Return=0.15100000152155554, Variance=0.0418000013694\n",
      "eta=0.92, Portfolio=[0.813333346768023 0.18666665323197698], Expected Return=0.15260000161216275, Variance=0.04325600148318976\n",
      "eta=0.9400000000000001, Portfolio=[0.8266666785448181 0.1733333214551819], Expected Return=0.15420000142537818, Variance=0.044744001339855496\n",
      "eta=0.9600000000000001, Portfolio=[0.8400000116862436 0.15999998831375634], Expected Return=0.1558000014023492, Variance=0.046264001346255273\n",
      "eta=0.98, Portfolio=[0.853333345167319 0.14666665483268107], Expected Return=0.15740000142007826, Variance=0.04781600139167673\n",
      "eta=1.0, Portfolio=[0.866666678212895 0.133333321787105], Expected Return=0.1590000013855474, Variance=0.04940000138554741\n"
     ]
    }
   ],
   "source": [
    "Etas = np.arange(0.02,1.01,0.02)\n",
    "cases = np.shape(Etas)[0]\n",
    "P = cases * [None]\n",
    "Ret = cases * [None]\n",
    "Var = cases * [None]\n",
    "\n",
    "# Data\n",
    "R = np.array([0.175, 0.055])\n",
    "Sigma = np.array([[0.067, -0.005], [-0.005, 0.013]])\n",
    "\n",
    "for e in range(cases):\n",
    "    eta = Etas[e]\n",
    "\n",
    "    # Create the model\n",
    "    port = Model(\"Portfolio optimization for two assets\")\n",
    "    \n",
    "    # Add variables and constraints\n",
    "    p = [None for i in range(2)]\n",
    "    for i in range(2):\n",
    "        p[i] = port.addVar(vtype='C', lb=0, ub=None, name=f\"p_{i}\")\n",
    "    port.addCons(quicksum(p[i] for i in range(2)) == 1, name=\"budget\")\n",
    "    \n",
    "    # The objective is Nonlinear. We need the following TRICK.\n",
    "    obj = port.addVar(vtype='C', lb=None, ub=None, name='objective value')\n",
    "    port.addCons(obj >= quicksum(Sigma[i][j]*p[i]*p[j] for i in range(2) for j in range(2)) \n",
    "             - eta*quicksum(R[i]*p[i] for i in range(2)))\n",
    "    port.setObjective(obj, sense=\"minimize\")\n",
    "\n",
    "    # Solve\n",
    "    port.hideOutput()\n",
    "    port.optimize()\n",
    "\n",
    "    # Collect solutions\n",
    "    SOL = port.getBestSol()\n",
    "    Port = np.array(2*[None])\n",
    "    for i in range(2):\n",
    "        Port[i] = SOL[p[i]]\n",
    "    P[e] = Port\n",
    "    Ret[e] = np.dot(R,P[e])\n",
    "    Var[e] = np.dot(P[e],np.dot(Sigma,P[e]))\n",
    "    print(f\"eta={eta}, Portfolio={P[e]}, Expected Return={Ret[e]}, Variance={Var[e]}\")\n",
    "\n"
   ]
  },
  {
   "cell_type": "code",
   "execution_count": 6,
   "id": "ca1bfbe9-13a4-462e-a7e5-bb1dfbea0037",
   "metadata": {},
   "outputs": [],
   "source": [
    "import matplotlib.pyplot as plt"
   ]
  },
  {
   "cell_type": "code",
   "execution_count": 8,
   "id": "7107d33a-16e8-4f2a-be1e-c8b566528200",
   "metadata": {},
   "outputs": [
    {
     "data": {
      "image/png": "[encoded data removed]",
      "text/plain": [
       "<Figure size 640x480 with 1 Axes>"
      ]
     },
     "metadata": {},
     "output_type": "display_data"
    }
   ],
   "source": [
    "plt.plot(Var,Ret)\n",
    "plt.show()"
   ]
  },
  {
   "cell_type": "markdown",
   "id": "b9a64419-9a72-4afa-bc10-2e9bda1b5b43",
   "metadata": {},
   "source": [
    "---"
   ]
  }
 ],
 "metadata": {
  "kernelspec": {
   "display_name": "Python 3 (ipykernel)",
   "language": "python",
   "name": "python3"
  },
  "language_info": {
   "codemirror_mode": {
    "name": "ipython",
    "version": 3
   },
   "file_extension": ".py",
   "mimetype": "text/x-python",
   "name": "python",
   "nbconvert_exporter": "python",
   "pygments_lexer": "ipython3",
   "version": "3.12.7"
  },
  "widgets": {
   "application/vnd.jupyter.widget-state+json": {
    "state": {},
    "version_major": 2,
    "version_minor": 0
   }
  }
 },
 "nbformat": 4,
 "nbformat_minor": 5
}
