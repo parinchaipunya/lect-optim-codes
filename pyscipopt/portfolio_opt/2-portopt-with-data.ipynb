{
 "cells": [
  {
   "cell_type": "markdown",
   "id": "efcddf73-3375-4a7b-8524-f708d65b4548",
   "metadata": {},
   "source": [
    "# Portfolio optimization with data\n",
    "\n",
    "The key challenge in portfolio optimization is the implementation of the data in order to get the *expected returns* and *risk evaluation*.\n",
    "\n",
    "It is useful to consider the *expected return* of an asset as the $\\$/\\$$ (reads *dollar-per-dollar*) profit ratio\n",
    "$$\n",
    "R_{i} = \\frac{\\text{Future value} - \\text{Present value}}{\\text{Present value}},\n",
    "$$"
   ]
  }
 ],
 "metadata": {
  "kernelspec": {
   "display_name": "Python 3 (ipykernel)",
   "language": "python",
   "name": "python3"
  },
  "language_info": {
   "codemirror_mode": {
    "name": "ipython",
    "version": 3
   },
   "file_extension": ".py",
   "mimetype": "text/x-python",
   "name": "python",
   "nbconvert_exporter": "python",
   "pygments_lexer": "ipython3",
   "version": "3.12.7"
  },
  "widgets": {
   "application/vnd.jupyter.widget-state+json": {
    "state": {},
    "version_major": 2,
    "version_minor": 0
   }
  }
 },
 "nbformat": 4,
 "nbformat_minor": 5
}
