{
 "cells": [
  {
   "cell_type": "markdown",
   "id": "23db4617-729d-4ab3-a5d2-342319b24907",
   "metadata": {},
   "source": [
    "# Batch size optimization for a multi-product line\n",
    "\n",
    "## Back story\n",
    "- A factory produces three products A, B, and C on a single machine.\n",
    "- Switching between any two products requires setup time and cost.\n",
    "### Problem\n",
    "Larger batches reduce setup frequency but increase the holding cost.\n",
    "\n",
    "Hence, one needs to make an optimal **weekly plan** to minimize the total payment that is materialized by the setup and holding costs.\n",
    "\n",
    "The manager decides the **weekly plan** that includes a **batch size** (constant for the full week) and the **number of batches** to be made."
   ]
  },
  {
   "cell_type": "markdown",
   "id": "3d433888-3ba8-4b09-b99d-424d992f0ac3",
   "metadata": {
    "editable": true,
    "slideshow": {
     "slide_type": ""
    },
    "tags": []
   },
   "source": [
    "## Data\n",
    "\n",
    "| Product | Weekly Order Size (units) | Setup Cost (\\$/setup) | Setup Time (hr) | Holding Cost (\\$/units/week) | Production Rate (units/hr) | Minimum Batch Size (units) |\n",
    "|:---:|:---:|:---:|:---:|:---:|:---:|:---:|\n",
    "| Bird food | 500 | 100 | .5 | .5 | 100 | 80 |\n",
    "| Cat food | 300 | 150 | 1  | .4 | 80 | 100 |\n",
    "| Dog food | 200 | 120 | .8 | .6 | 60 | 90 |\n",
    "\n",
    "Moreover, we have the maximum machine operating hours = 40 hr/week."
   ]
  },
  {
   "cell_type": "markdown",
   "id": "09ab38d9-cdd7-4ef0-bf3e-eb9bb1740013",
   "metadata": {},
   "source": [
    "## Modeling\n",
    "\n",
    "### Indices and parameters\n",
    "- $i \\in \\{0,1,2\\}$, the index for the product.\n",
    "- $S_{i}$, the setup cost of the product $i$.\n",
    "- $W_{i}$, the set up time of the product $i$.\n",
    "- $H_{i}$, the holding cost ot the product $i$.\n",
    "- $D_{i}$, the weekly demand of the product $i$.\n",
    "- $R_{i}$, the production rate of the product $i$.\n",
    "- $B_{i}$, the minimum batch size for the product $i$.\n",
    "- $T_{i} = D_{i}/R_{i}$, the time needed per week to meet the demand for product $i$.\n",
    "- $M$, the maximum machin eoperating hours.\n",
    "\n",
    "### Decision variables\n",
    "- $Q_{i} \\geq 0$, the batch size for product $i$.\n",
    "- $N_{i} \\in \\mathbb{Z}_{+}$, the number of batches per week for product $i$.\n",
    "Note that $N_{i} = D_{i}/Q_{i}$ and $T_{i} = D_{i}/R_{i}$.\n",
    "\n",
    "### Objective function\n",
    "- To minimize the total cost, which is defined by\n",
    "$$\n",
    "Cost = \\sum_{i} \\left(\\quad \\underbrace{S_{i}N_{i}}_{\\text{setup cost}} + \\underbrace{.5 H_{i}Q_{i}}_{\\text{averaged holding cost}} \\right)\n",
    "$$\n",
    "\n",
    "### Constraints\n",
    "- $\\sum_{i} (T_{i} + N_{i}W_{i}) \\leq M$, the production time and setup time is less than the maximum machine hours.\n",
    "- $Q_{i} \\geq B_{i}$, the production batch is larger than the minimum batch size.\n",
    "- $Q_{i}N_{i} = D_{i}$, the total production equals to the order size. **This is nonlinear.**"
   ]
  },
  {
   "cell_type": "code",
   "execution_count": null,
   "id": "cea69fb9-89a6-46d5-ad17-06a6eda40770",
   "metadata": {},
   "outputs": [],
   "source": [
    "from pyscipopt import Model, quicksum\n",
    "import numpy as np"
   ]
  },
  {
   "cell_type": "code",
   "execution_count": null,
   "id": "c259944d-13ae-4e80-ae27-f48aaa390047",
   "metadata": {
    "editable": true,
    "slideshow": {
     "slide_type": ""
    },
    "tags": []
   },
   "outputs": [],
   "source": [
    "prod = [\"Bird food\", \"Cat food\", \"Dog food\"]\n",
    "p = len(prod)\n",
    "P = range(p)\n",
    "S = np.array([100, 150, 120])\n",
    "W = np.array([.5, 1, .8])\n",
    "H = np.array([.5, .4, .6])\n",
    "D = np.array([500, 300, 200])\n",
    "R = np.array([100, 80, 60])\n",
    "B = np.array([80, 100, 90])\n",
    "T = D/R\n",
    "M = 40\n",
    "\n",
    "m = Model()\n",
    "Q = [m.addVar(vtype='C', lb=0, name=f'Q_{prod[i]}') for i in P]\n",
    "N = [m.addVar(vtype='I', lb=0, name=f'P_{prod[i]}') for i in P]\n",
    "m.setObjective( quicksum(S[i]*P[i] + .5*H[i]*Q[i] for i in P), sense='minimize')\n",
    "m.addCons( quicksum(T[i] + W[i]*P[i] for i in P) <= M )\n",
    "for i in P: m.addCons( Q[i] >= B[i] )\n",
    "for i in P: m.addCons( Q[i]*N[i] == D[i] )"
   ]
  },
  {
   "cell_type": "code",
   "execution_count": null,
   "id": "80524a6e-5a33-4cd1-91c8-ff91b8859b91",
   "metadata": {},
   "outputs": [],
   "source": [
    "m.optimize()"
   ]
  },
  {
   "cell_type": "code",
   "execution_count": null,
   "id": "cbc5669b-9dbc-4e98-9472-57d5a5d6c490",
   "metadata": {},
   "outputs": [],
   "source": [
    "SOL = m.getBestSol()\n",
    "Q_opt = [SOL[Q[i]] for i in P]\n",
    "N_opt = [SOL[N[i]] for i in P]\n",
    "TMH = np.sum(T + W*N_opt)\n",
    "\n",
    "for i in P:\n",
    "    print(f\"----- {prod[i]} (Demand = {D[i]} units) ----\")\n",
    "    print(f\"{N_opt[i]} batches of size {Q_opt[i]}\")\n",
    "    print(f\"Total production = {Q_opt[i]*N_opt[i]} units\\n\")\n",
    "print(f\"Total machine hours = {TMH} hours\")\n",
    "print(f\"Total cost = {m.getObjVal()}$\")"
   ]
  },
  {
   "cell_type": "markdown",
   "id": "44cdb997-d415-4304-8570-dac2378b48d1",
   "metadata": {},
   "source": [
    "---"
   ]
  }
 ],
 "metadata": {
  "kernelspec": {
   "display_name": "Python 3 (ipykernel)",
   "language": "python",
   "name": "python3"
  },
  "language_info": {
   "codemirror_mode": {
    "name": "ipython",
    "version": 3
   },
   "file_extension": ".py",
   "mimetype": "text/x-python",
   "name": "python",
   "nbconvert_exporter": "python",
   "pygments_lexer": "ipython3",
   "version": "3.13.5"
  }
 },
 "nbformat": 4,
 "nbformat_minor": 5
}
