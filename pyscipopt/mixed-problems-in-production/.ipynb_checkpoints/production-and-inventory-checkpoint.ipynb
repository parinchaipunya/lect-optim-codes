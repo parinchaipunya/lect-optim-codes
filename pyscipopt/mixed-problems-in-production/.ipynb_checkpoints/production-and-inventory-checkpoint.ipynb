{
 "cells": [
  {
   "cell_type": "markdown",
   "id": "04befd43-bb6f-4ee3-9ee2-11666b93fd66",
   "metadata": {},
   "source": [
    "# Planning production and inventories\n",
    "\n",
    "In this notebook we consider a planning problem that covers $T$ periods of time.\n",
    "If there is a production in a given period $t \\in \\{1,\\dots,T\\}$, a fixed cost $c^{\\text{fixed}}_{t}$ is incurred regardless of the production amount.\n",
    "We assume that the production demand $d_{t}$ at a period $t$ is known, and it has to be met.\n",
    "However, we allow *overproduction* where the excess goods are stored for the demand of the later periods.\n",
    "This inflicts a *holding cost* $c^{\\text{holding}}_{t}$ per unit stored."
   ]
  },
  {
   "cell_type": "markdown",
   "id": "da9dea26-18eb-4d74-b0c3-b97a119019fd",
   "metadata": {},
   "source": [
    "## Problem formulation\n",
    "\n",
    "| **Parameters** | |\n",
    "|:-|:-|\n",
    "| $T$ | The production time horizon. |\n",
    "| $t = 1,\\dots,T$ | The production period. |\n",
    "| $c_{t}$ | The production cost per unit produced. |\n",
    "| $c^{\\text{fixed}}_{t}$ | The fixed cost when there is a production at period $t$. |\n",
    "| $c^{\\text{holding}}_{t}$ | The holding cost per unit stored. |\n",
    "| $d_{t}$ | The demand at period $t$. |\n",
    "| $M_{t}$ | The production capacity. |\n",
    "| **Decision** |\n",
    "| $x_{t}$ | Units of production during period $t$. |\n",
    "| $s_{t}$ | Units of products to be stored during period $t$. |\n",
    "| $y_{t} \\in \\{0,1\\}$ | Binary variable that is $1$ if there is a production and $0$ if there is no production. |"
   ]
  },
  {
   "cell_type": "markdown",
   "id": "9d717599-0249-403b-8c77-e6c7a90baed8",
   "metadata": {},
   "source": [
    "### Constraints\n",
    "\n",
    "- Demand must be met during each period: $x_{t} - s_{t} + s_{t-1} = d_{t}$\n",
    "- The production/non-production decision: $x_{t} \\leq M_{t}y_{t}$\n",
    "- Storing amount must not exceed the produced amount: $s_{t} \\leq x_{t}$\n",
    "- Non-negativity: $x_{t},s_{t} \\geq 0$\n",
    "\n",
    "### Objective function\n",
    "\n",
    "To minimize the total cost\n",
    "$$\n",
    "Z = \\sum_{t=1}^{T} [ c_{t}x_{t} + c^{\\text{holding}}_{t}s_{t} + c^{\\text{fixed}}_{t}y_{t} ] \\ \\leftarrow \\text{Minimize}\n",
    "$$"
   ]
  },
  {
   "cell_type": "markdown",
   "id": "e440fd09-ad83-4fcb-8c72-6efa97ad97c5",
   "metadata": {},
   "source": [
    "---"
   ]
  },
  {
   "cell_type": "markdown",
   "id": "ef1d8854-4809-4479-98de-0fae1306afd9",
   "metadata": {},
   "source": [
    "## Question 1\n"
   ]
  },
  {
   "cell_type": "markdown",
   "id": "0d5c95e8-c072-4d64-8f3f-3fb93116d613",
   "metadata": {},
   "source": [
    "Suppose that the production is planned in for 4 weeks, and $c_{t}, c_{t}^{\\text{fixed}}, c_{t}^{\\text{holding}}$ are the weekly costs.\n",
    "Try to model the problem so that the demand is increasing weekly, and the holding cost $c_{t}^{\\text{holding}}$ is much cheaper than the production cost $c_{t+1}$."
   ]
  },
  {
   "cell_type": "code",
   "execution_count": null,
   "id": "ab651d0c-7e01-451e-978d-f45bc6c82ac6",
   "metadata": {},
   "outputs": [],
   "source": []
  },
  {
   "cell_type": "markdown",
   "id": "749e4091-3170-418b-930a-f977057912bd",
   "metadata": {},
   "source": [
    "## Question 2\n",
    "\n",
    "Modify the holding cost and production cost so that $c_{t}^{\\text{holding}} >> c_{t+1}$.\n",
    "What impact it brings to the optimal solution ?"
   ]
  },
  {
   "cell_type": "code",
   "execution_count": null,
   "id": "b2e0c98d-c7e5-480e-9bec-42e17783d2a0",
   "metadata": {},
   "outputs": [],
   "source": []
  },
  {
   "cell_type": "markdown",
   "id": "72e6bc07-ea4d-4985-a5fd-6ee6790ec869",
   "metadata": {},
   "source": [
    "## Question 3\n",
    "\n",
    "Take your data from [Quesion 1](#Question-1). \n",
    "Let us plan for the longer period with $T = 10$ and consider the following additional constraint:\n",
    "- The production could not take place consecutively for more than 2 weeks due to the workforce restriction.\n",
    " \n",
    "Solve for the optimal plan. "
   ]
  },
  {
   "cell_type": "code",
   "execution_count": null,
   "id": "8e5e45b6-cbcb-4d4f-a995-b37bc3ad0857",
   "metadata": {},
   "outputs": [],
   "source": []
  }
 ],
 "metadata": {
  "kernelspec": {
   "display_name": "Python 3 (ipykernel)",
   "language": "python",
   "name": "python3"
  },
  "language_info": {
   "codemirror_mode": {
    "name": "ipython",
    "version": 3
   },
   "file_extension": ".py",
   "mimetype": "text/x-python",
   "name": "python",
   "nbconvert_exporter": "python",
   "pygments_lexer": "ipython3",
   "version": "3.12.7"
  },
  "widgets": {
   "application/vnd.jupyter.widget-state+json": {
    "state": {},
    "version_major": 2,
    "version_minor": 0
   }
  }
 },
 "nbformat": 4,
 "nbformat_minor": 5
}
