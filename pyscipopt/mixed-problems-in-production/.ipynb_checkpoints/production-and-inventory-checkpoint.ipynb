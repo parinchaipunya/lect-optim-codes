{
 "cells": [
  {
   "cell_type": "markdown",
   "id": "04befd43-bb6f-4ee3-9ee2-11666b93fd66",
   "metadata": {},
   "source": [
    "# Planning production and inventories\n",
    "\n",
    "In this notebook we consider a planning problem that covers $T$ periods of time.\n",
    "If there is a production in a given period $t \\in \\{1,\\dots,T\\}$, a fixed cost $c^{\\text{fixed}}_{t}$ is incurred regardless of the production amount.\n",
    "We assume that the production demand $d_{t}$ at a period $t$ is known, and it has to be met.\n",
    "However, we allow *overproduction* where the excess goods are stored for the demand of the later periods.\n",
    "This inflicts a *holding cost* $c^{\\text{holding}}_{t}$ per unit stored."
   ]
  },
  {
   "cell_type": "markdown",
   "id": "da9dea26-18eb-4d74-b0c3-b97a119019fd",
   "metadata": {},
   "source": [
    "## Problem formulation\n",
    "\n",
    "| **Parameters** | |\n",
    "|:-|:-|\n",
    "| $T$ | The production time horizon. |\n",
    "| $t = 1,\\dots,T$ | The production period. |\n",
    "| $c_{t}$ | The production cost per unit produced. |\n",
    "| $c^{\\text{fixed}}_{t}$ | The fixed cost when there is a production at period $t$. |\n",
    "| $c^{\\text{holding}}_{t}$ | The holding cost per unit stored. |\n",
    "| $d_{t}$ | The demand at period $t$. |\n",
    "| **Decision** |\n",
    "| $x_{t}$ | Units of production during period $t$. |\n",
    "| $s_{t}$ | Units of products to be stored during period $t$. |\n",
    "| $y_{t} \\in \\{0,1\\}$ | Binary variable that is $1$ if there is a production and $0$ if there is no production. |"
   ]
  },
  {
   "cell_type": "markdown",
   "id": "9d717599-0249-403b-8c77-e6c7a90baed8",
   "metadata": {},
   "source": [
    "### Constraints\n",
    "\n",
    "- Demand must be met during each period: $x_{t} - s_{t} + s_{t-1} = d_{t}$\n",
    "- The production/non-production decision: $x_{t} \\geq d_{t}y_{t}$\n",
    "- Non-negativity: $x_{t},s_{t} \\geq 0$\n",
    "\n",
    "### Objective function\n",
    "\n",
    "To minimize the total cost\n",
    "$$\n",
    "Z = \\sum_{t=1}^{T} [ c_{t}x_{t} + c^{\\text{holding}}_{t}s_{t} + c^{\\text{fixed}}_{t}y_{t} ] \\ \\leftarrow \\text{Minimize}\n",
    "$$"
   ]
  }
 ],
 "metadata": {
  "kernelspec": {
   "display_name": "Python 3 (ipykernel)",
   "language": "python",
   "name": "python3"
  },
  "language_info": {
   "codemirror_mode": {
    "name": "ipython",
    "version": 3
   },
   "file_extension": ".py",
   "mimetype": "text/x-python",
   "name": "python",
   "nbconvert_exporter": "python",
   "pygments_lexer": "ipython3",
   "version": "3.12.7"
  },
  "widgets": {
   "application/vnd.jupyter.widget-state+json": {
    "state": {},
    "version_major": 2,
    "version_minor": 0
   }
  }
 },
 "nbformat": 4,
 "nbformat_minor": 5
}
