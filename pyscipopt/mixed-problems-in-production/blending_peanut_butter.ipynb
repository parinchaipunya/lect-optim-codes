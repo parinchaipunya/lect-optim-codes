{
 "cells": [
  {
   "cell_type": "markdown",
   "id": "5dcd315d-fcbf-40ab-b69c-d6b7ae65ddfd",
   "metadata": {},
   "source": [
    "# Blending optimization: Peanut butter production\n",
    "\n",
    "## Back story\n",
    "A peanut butter house produces its product by blending different types of peanuts to match the target protein and fat contents.\n",
    "\n",
    "A quality peanut butter should contain at least 20% protein and between 48--52% fat in a kilogram."
   ]
  },
  {
   "cell_type": "markdown",
   "id": "73f42f05-69e7-40f6-9a12-5254f3b26f98",
   "metadata": {},
   "source": [
    "## Data\n",
    "\n",
    "| Peanut type | Cost ($/kg) | Protein content (%) | Fat content (%) |\n",
    "|:---:|:---:|:---:|:---:|\n",
    "| Type A | 4.00 | 26 | 50 |\n",
    "| Type B | 3.00 | 20 | 55 |\n",
    "| Type C | 2.50 | 18 | 40 |"
   ]
  },
  {
   "cell_type": "markdown",
   "id": "854c83ad-6199-4fab-a936-b3041fe20de0",
   "metadata": {},
   "source": [
    "## Modeling\n",
    "\n",
    "### Indices and parameters\n",
    "- $i \\in \\{A,B,C\\}$\n",
    "- $C_{i}$, the cost of peanut of type $i$.\n",
    "- $P_{i}$, the protein content of peanut of type $i$.\n",
    "- $P^{-}$, the lower target protein content.\n",
    "- $F_{i}$, the fat content of peanut of type $i$.\n",
    "- $F^{-}$, the lower target fat content.\n",
    "- $F^{+}$, the upper target fat content.\n",
    "\n",
    "### Decision variables\n",
    "- $x_{i} \\geq 0$, proportion (kg) of peanut of type $i$ in the mix.\n",
    "\n",
    "### Objective function\n",
    "- To minimize the total cost, which is defined by\n",
    "$$ \n",
    "Cost = 4x_{A} + 3x_{B} + 2.5x_{C}\n",
    "$$\n",
    "\n",
    "### Constraints\n",
    "- $x_{A} + x_{B} + x_{C} = 1$, the mix comprises to a full proportion of a kilogram.\n",
    "- $26x_{A} + 20X_{B} + 18x_{C} \\geq P^{-}$, the protein content is at least $22\\%$.\n",
    "- $F^{-} \\leq 50x_{A} + 55x_{B} + 50x_{C} \\leq F^{+}$, the fat content is between $48\\%$ and $52\\%$."
   ]
  },
  {
   "cell_type": "code",
   "execution_count": null,
   "id": "15ce9dd4-fb5c-45d3-8ff6-728621212bc0",
   "metadata": {},
   "outputs": [],
   "source": [
    "import numpy as np\n",
    "from pyscipopt import Model, quicksum"
   ]
  },
  {
   "cell_type": "code",
   "execution_count": null,
   "id": "a5eb4fdd-0d2a-4132-a35a-750a4dd5227d",
   "metadata": {},
   "outputs": [],
   "source": [
    "types = ['A', 'B', 'C']\n",
    "n = len(types)\n",
    "N = range(n)\n",
    "C = np.array([4, 3, 2.5])\n",
    "P = np.array([26, 20, 18])\n",
    "F = np.array([50, 55, 40])\n",
    "P_lower = 22\n",
    "F_lower = 48\n",
    "F_upper = 52\n",
    "\n",
    "m = Model()\n",
    "x = [m.addVar(name=f'x_{i}', vtype='C', lb=0) for i in N]\n",
    "m.setObjective( quicksum(C[i]*x[i] for i in N), sense='minimize')\n",
    "m.addCons( quicksum(x[i] for i in N) == 1 )\n",
    "m.addCons( quicksum(P[i]*x[i] for i in N) >= P_lower )\n",
    "m.addCons( quicksum(F[i]*x[i] for i in N) >= F_lower )\n",
    "m.addCons( quicksum(F[i]*x[i] for i in N) <= F_upper );"
   ]
  },
  {
   "cell_type": "code",
   "execution_count": null,
   "id": "8da8fffc-5b6a-4551-b028-2a6f2b4b9eae",
   "metadata": {},
   "outputs": [],
   "source": [
    "m.optimize()"
   ]
  },
  {
   "cell_type": "code",
   "execution_count": null,
   "id": "1555eab3-002d-4494-8bff-74d6ce5d118a",
   "metadata": {},
   "outputs": [],
   "source": [
    "SOL = m.getBestSol()\n",
    "OBJ = m.getObjVal()\n",
    "x_opt = np.array([SOL[x[i]] for i in N])\n",
    "\n",
    "print(f\"The optimal formula for 1kg of peanut butter includes\")\n",
    "for i in N: print(f\"- {x_opt[i]*100}% of Type {types[i]} peanuts\")\n",
    "print(f\"The formula contains {np.sum(P*x_opt)}% of protein and {np.sum(F*x_opt)}% of fat.\")\n",
    "print(f\"The cost for producing 1kg of this peanut butter is {OBJ}$.\")"
   ]
  },
  {
   "cell_type": "markdown",
   "id": "b38c1369-c33d-472e-8736-ed2367a23ca2",
   "metadata": {},
   "source": [
    "---"
   ]
  }
 ],
 "metadata": {
  "kernelspec": {
   "display_name": "Python 3 (ipykernel)",
   "language": "python",
   "name": "python3"
  },
  "language_info": {
   "codemirror_mode": {
    "name": "ipython",
    "version": 3
   },
   "file_extension": ".py",
   "mimetype": "text/x-python",
   "name": "python",
   "nbconvert_exporter": "python",
   "pygments_lexer": "ipython3",
   "version": "3.13.5"
  }
 },
 "nbformat": 4,
 "nbformat_minor": 5
}
