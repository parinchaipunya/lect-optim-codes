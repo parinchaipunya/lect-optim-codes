{
 "cells": [
  {
   "cell_type": "markdown",
   "id": "acfd2706-ef38-412e-9d86-f3f8f47e237d",
   "metadata": {},
   "source": [
    "# Carpenter contracts\n",
    "\n",
    "Over the next $4$ weeks, the total amount of $52$, $65$, $70$ and $85$ bookcases, respectively, must be produced.\n",
    "There are $6$ artisan carpenters working in the workshop.\n",
    "\n",
    "Due to the increased workload and the shortage of experienced carpenters, the workshop decided to contract new inexperienced staffs to meet their demand.\n",
    "A *novice* can be trained for apprenticeship with an artisan for a week.\n",
    "Each artisan can train at most $2$ novices per week.\n",
    "The novice works a second week as an *apprentice*. \n",
    "After another week of working, he/she becomes an *artisan*.\n",
    "The production and employees' salaries are provided in the following table.\n",
    "\n",
    "| |Production (Bookcases/week)|Salaries ($/week)|\n",
    "|:---|:---:|:---:|\n",
    "|Artisan working on production only.|10|300|\n",
    "|Artisan working on production and training.|5|400|\n",
    "|Apprentice|5|150|\n",
    "|Novice|1|50|\n",
    "\n",
    "There are additional constraints such that (1) once a carpenter is hired, they will be continued to be hired, and (2) the last week finishes without hiring a novice."
   ]
  },
  {
   "cell_type": "markdown",
   "id": "a1acacbb-935b-4b72-ae28-eefec9fc1141",
   "metadata": {},
   "source": [
    "## Problem formulation\n",
    "\n",
    "| **Parameters** | |\n",
    "|:-|:-|\n",
    "| */Carpenter type/*  |\n",
    "| $i=1$ | producing artisan |\n",
    "| $i=2$ | training artisan |\n",
    "| $i=3$ | apprentice |\n",
    "| $i=4$ | novice |\n",
    "| */Salary/* |\n",
    "| $\\alpha_{i}$ | The salary of carpenter type $i$. |\n",
    "| */Timestamp/* |\n",
    "| $j = 1,\\dots,4$ | The week $j$.  |\n",
    "| **Decision** |\n",
    "|$x_{ij} \\in \\mathbb{Z}$| The number of carpenter type $i$ working in week $j$. |\n",
    "|$z_{j} \\in \\mathbb{Z}$ | Overproduction of week $j = 1,2,3$. |"
   ]
  },
  {
   "cell_type": "markdown",
   "id": "d96557ae-596e-4950-ad0e-dcff7a04b163",
   "metadata": {},
   "source": [
    "### Constraints \n",
    "\n",
    "**Week 1**\n",
    "- Initial artisan carpenters: $x_{11} + x_{21} = 6$\n",
    "- Demand is covered: $10x_{11} + 5x_{21} + x_{41} \\geq 52$\n",
    "- Novice training: $x_{41} \\leq 2 x_{21}$\n",
    "- Leftover dynamic: $z_{1} = 10x_{11} + 5x_{21} + x_{41} - 52$\n",
    "\n",
    "**Week 2**\n",
    "- Novices become apprentices: $x_{32} = x_{41}$\n",
    "- The number of artisans: $x_{12} + x_{22} = x_{11} + x_{21}$\n",
    "- Demand is covered by production and leftover: $10x_{12} + 5x_{22} + x_{42} + 5x_{32} + z_{1} \\geq 65$\n",
    "- Novice training: $x_{42} \\leq 2x_{22}$\n",
    "- Leftover dynamic: $z_{2} = 10x_{12} + 5x_{22} + x_{42} + 5x_{32} + z_{1} - 65$\n",
    "\n",
    "**Week 3**\n",
    "- Novices become apprentices: $x_{33} = X_{42}$\n",
    "- The number of artisans: $x_{13} + x_{23} = x_{12} + x_{22} + x_{32}$\n",
    "- Demand is covered by production and leftover: $10x_{13} + 5x_{23} + x_{43} + 5x_{33} + z_{2} \\geq 70$\n",
    "- Novice training: $x_{43} \\leq 2x_{23}$\n",
    "- Leftover dynamic: $z_{3} = 10x_{13} + 5x_{23} + x_{43} + 5x_{33} + z_{2} - 70$\n",
    "\n",
    "**Week 4**\n",
    "- Novices become apprentices: $x_{34} = x_{43}$\n",
    "- No training of new novices: $x_{24} = 0$, $\\quad x_{44} \\leq 2x_{24}$\n",
    "- The number of artisans: $x_{14} = x_{13} + x_{23} + x_{33}$\n",
    "- Demand is exactly covered: $10x_{14} + 5x_{34} + z_{3} = 85$"
   ]
  },
  {
   "cell_type": "markdown",
   "id": "7bffdefb-e3fb-49ca-bbcc-40028c00c3c7",
   "metadata": {},
   "source": [
    "### Objective function\n",
    "\n",
    "To minimize the cost (salary) of the production:\n",
    "$$\n",
    "Z = \\sum_{j=1}^{4} \\sum_{i=1}^{4} \\alpha_{i}x_{ij} \\ \\leftarrow \\text{Minimize}.\n",
    "$$"
   ]
  }
 ],
 "metadata": {
  "kernelspec": {
   "display_name": "Python 3 (ipykernel)",
   "language": "python",
   "name": "python3"
  },
  "language_info": {
   "codemirror_mode": {
    "name": "ipython",
    "version": 3
   },
   "file_extension": ".py",
   "mimetype": "text/x-python",
   "name": "python",
   "nbconvert_exporter": "python",
   "pygments_lexer": "ipython3",
   "version": "3.12.7"
  },
  "widgets": {
   "application/vnd.jupyter.widget-state+json": {
    "state": {},
    "version_major": 2,
    "version_minor": 0
   }
  }
 },
 "nbformat": 4,
 "nbformat_minor": 5
}
